{
  "cells": [
    {
      "cell_type": "code",
      "execution_count": 71,
      "id": "7bef1f89",
      "metadata": {
        "id": "7bef1f89"
      },
      "outputs": [],
      "source": [
        "# used fot preprocessing the data.\n",
        "import pandas as pd\n",
        "# Used fo visualization of data using various graph.\n",
        "import seaborn as sns\n",
        "from sklearn.tree import DecisionTreeClassifier, export_graphviz"
      ]
    },
    {
      "cell_type": "code",
      "execution_count": 72,
      "id": "4a021cd1",
      "metadata": {
        "id": "4a021cd1"
      },
      "outputs": [],
      "source": [
        "df = pd.read_excel(\"/content/spam.xlsx\")"
      ]
    },
    {
      "cell_type": "markdown",
      "source": [],
      "metadata": {
        "id": "QphvyDs2WnuA"
      },
      "id": "QphvyDs2WnuA"
    },
    {
      "cell_type": "code",
      "execution_count": 73,
      "id": "d4ccc208",
      "metadata": {
        "colab": {
          "base_uri": "https://localhost:8080/"
        },
        "id": "d4ccc208",
        "outputId": "2ed7124a-0c15-4b68-dba8-f853a387a7f7"
      },
      "outputs": [
        {
          "output_type": "execute_result",
          "data": {
            "text/plain": [
              "4601"
            ]
          },
          "metadata": {},
          "execution_count": 73
        }
      ],
      "source": [
        "# To Display the count of rows.\n",
        "df.shape[0]"
      ]
    },
    {
      "cell_type": "code",
      "execution_count": 74,
      "id": "d42d86bf",
      "metadata": {
        "scrolled": true,
        "colab": {
          "base_uri": "https://localhost:8080/",
          "height": 412
        },
        "id": "d42d86bf",
        "outputId": "27f63287-3639-4d10-caf0-f2715b35e21b"
      },
      "outputs": [
        {
          "output_type": "execute_result",
          "data": {
            "text/plain": [
              "   make  address   all   3d   our  over  remove  internet  order  mail  ...  \\\n",
              "0  0.00     0.00  0.29  0.0  0.00  0.00    0.00      0.00   0.00  0.00  ...   \n",
              "1  0.46     0.00  0.00  0.0  0.00  0.00    0.00      0.00   0.00  0.00  ...   \n",
              "2  0.00     0.00  0.00  0.0  0.00  0.00    0.00      0.00   0.00  0.00  ...   \n",
              "3  0.33     0.44  0.37  0.0  0.14  0.11    0.00      0.07   0.97  1.16  ...   \n",
              "4  0.00     2.08  0.00  0.0  3.12  0.00    1.04      0.00   0.00  0.00  ...   \n",
              "5  0.00     0.00  0.27  0.0  0.81  0.81    0.00      2.98   0.54  0.81  ...   \n",
              "6  0.00     0.46  0.00  0.0  0.00  0.00    0.00      0.00   0.00  0.00  ...   \n",
              "7  0.00     0.00  0.00  0.0  0.00  0.00    0.00      0.00   0.00  0.00  ...   \n",
              "8  0.00     0.00  0.00  0.0  0.00  0.00    0.00      0.00   0.00  0.00  ...   \n",
              "9  0.00     0.00  0.00  0.0  0.00  0.00    0.00      0.00   0.00  0.00  ...   \n",
              "\n",
              "   semicol  paren  bracket   bang  dollar  pound  cap_avg  cap_long  \\\n",
              "0    0.000  0.178    0.000  0.044   0.000   0.00    1.666        10   \n",
              "1    0.000  0.125    0.000  0.000   0.000   0.00    1.510        10   \n",
              "2    0.000  0.000    0.000  0.000   0.000   0.00    1.718        11   \n",
              "3    0.006  0.159    0.000  0.069   0.221   0.11    3.426        72   \n",
              "4    0.000  0.000    0.000  0.263   0.000   0.00    1.428         4   \n",
              "5    0.000  0.040    0.000  0.565   0.121   0.00    1.617        18   \n",
              "6    0.000  0.155    0.000  0.000   0.000   0.00    2.982        28   \n",
              "7    0.000  0.000    0.138  0.000   0.000   0.00    1.228         4   \n",
              "8    0.000  0.377    0.000  0.125   0.000   0.00    2.925        27   \n",
              "9    0.000  0.000    0.000  0.000   0.000   0.00    4.333        11   \n",
              "\n",
              "   cap_total  Class  \n",
              "0        180    ham  \n",
              "1         74    ham  \n",
              "2         55    ham  \n",
              "3        819   spam  \n",
              "4         20   spam  \n",
              "5        131   spam  \n",
              "6        167    ham  \n",
              "7         43    ham  \n",
              "8        158    ham  \n",
              "9         13    ham  \n",
              "\n",
              "[10 rows x 58 columns]"
            ],
            "text/html": [
              "\n",
              "  <div id=\"df-99188514-0395-4fd4-becf-8a8b50ba198c\" class=\"colab-df-container\">\n",
              "    <div>\n",
              "<style scoped>\n",
              "    .dataframe tbody tr th:only-of-type {\n",
              "        vertical-align: middle;\n",
              "    }\n",
              "\n",
              "    .dataframe tbody tr th {\n",
              "        vertical-align: top;\n",
              "    }\n",
              "\n",
              "    .dataframe thead th {\n",
              "        text-align: right;\n",
              "    }\n",
              "</style>\n",
              "<table border=\"1\" class=\"dataframe\">\n",
              "  <thead>\n",
              "    <tr style=\"text-align: right;\">\n",
              "      <th></th>\n",
              "      <th>make</th>\n",
              "      <th>address</th>\n",
              "      <th>all</th>\n",
              "      <th>3d</th>\n",
              "      <th>our</th>\n",
              "      <th>over</th>\n",
              "      <th>remove</th>\n",
              "      <th>internet</th>\n",
              "      <th>order</th>\n",
              "      <th>mail</th>\n",
              "      <th>...</th>\n",
              "      <th>semicol</th>\n",
              "      <th>paren</th>\n",
              "      <th>bracket</th>\n",
              "      <th>bang</th>\n",
              "      <th>dollar</th>\n",
              "      <th>pound</th>\n",
              "      <th>cap_avg</th>\n",
              "      <th>cap_long</th>\n",
              "      <th>cap_total</th>\n",
              "      <th>Class</th>\n",
              "    </tr>\n",
              "  </thead>\n",
              "  <tbody>\n",
              "    <tr>\n",
              "      <th>0</th>\n",
              "      <td>0.00</td>\n",
              "      <td>0.00</td>\n",
              "      <td>0.29</td>\n",
              "      <td>0.0</td>\n",
              "      <td>0.00</td>\n",
              "      <td>0.00</td>\n",
              "      <td>0.00</td>\n",
              "      <td>0.00</td>\n",
              "      <td>0.00</td>\n",
              "      <td>0.00</td>\n",
              "      <td>...</td>\n",
              "      <td>0.000</td>\n",
              "      <td>0.178</td>\n",
              "      <td>0.000</td>\n",
              "      <td>0.044</td>\n",
              "      <td>0.000</td>\n",
              "      <td>0.00</td>\n",
              "      <td>1.666</td>\n",
              "      <td>10</td>\n",
              "      <td>180</td>\n",
              "      <td>ham</td>\n",
              "    </tr>\n",
              "    <tr>\n",
              "      <th>1</th>\n",
              "      <td>0.46</td>\n",
              "      <td>0.00</td>\n",
              "      <td>0.00</td>\n",
              "      <td>0.0</td>\n",
              "      <td>0.00</td>\n",
              "      <td>0.00</td>\n",
              "      <td>0.00</td>\n",
              "      <td>0.00</td>\n",
              "      <td>0.00</td>\n",
              "      <td>0.00</td>\n",
              "      <td>...</td>\n",
              "      <td>0.000</td>\n",
              "      <td>0.125</td>\n",
              "      <td>0.000</td>\n",
              "      <td>0.000</td>\n",
              "      <td>0.000</td>\n",
              "      <td>0.00</td>\n",
              "      <td>1.510</td>\n",
              "      <td>10</td>\n",
              "      <td>74</td>\n",
              "      <td>ham</td>\n",
              "    </tr>\n",
              "    <tr>\n",
              "      <th>2</th>\n",
              "      <td>0.00</td>\n",
              "      <td>0.00</td>\n",
              "      <td>0.00</td>\n",
              "      <td>0.0</td>\n",
              "      <td>0.00</td>\n",
              "      <td>0.00</td>\n",
              "      <td>0.00</td>\n",
              "      <td>0.00</td>\n",
              "      <td>0.00</td>\n",
              "      <td>0.00</td>\n",
              "      <td>...</td>\n",
              "      <td>0.000</td>\n",
              "      <td>0.000</td>\n",
              "      <td>0.000</td>\n",
              "      <td>0.000</td>\n",
              "      <td>0.000</td>\n",
              "      <td>0.00</td>\n",
              "      <td>1.718</td>\n",
              "      <td>11</td>\n",
              "      <td>55</td>\n",
              "      <td>ham</td>\n",
              "    </tr>\n",
              "    <tr>\n",
              "      <th>3</th>\n",
              "      <td>0.33</td>\n",
              "      <td>0.44</td>\n",
              "      <td>0.37</td>\n",
              "      <td>0.0</td>\n",
              "      <td>0.14</td>\n",
              "      <td>0.11</td>\n",
              "      <td>0.00</td>\n",
              "      <td>0.07</td>\n",
              "      <td>0.97</td>\n",
              "      <td>1.16</td>\n",
              "      <td>...</td>\n",
              "      <td>0.006</td>\n",
              "      <td>0.159</td>\n",
              "      <td>0.000</td>\n",
              "      <td>0.069</td>\n",
              "      <td>0.221</td>\n",
              "      <td>0.11</td>\n",
              "      <td>3.426</td>\n",
              "      <td>72</td>\n",
              "      <td>819</td>\n",
              "      <td>spam</td>\n",
              "    </tr>\n",
              "    <tr>\n",
              "      <th>4</th>\n",
              "      <td>0.00</td>\n",
              "      <td>2.08</td>\n",
              "      <td>0.00</td>\n",
              "      <td>0.0</td>\n",
              "      <td>3.12</td>\n",
              "      <td>0.00</td>\n",
              "      <td>1.04</td>\n",
              "      <td>0.00</td>\n",
              "      <td>0.00</td>\n",
              "      <td>0.00</td>\n",
              "      <td>...</td>\n",
              "      <td>0.000</td>\n",
              "      <td>0.000</td>\n",
              "      <td>0.000</td>\n",
              "      <td>0.263</td>\n",
              "      <td>0.000</td>\n",
              "      <td>0.00</td>\n",
              "      <td>1.428</td>\n",
              "      <td>4</td>\n",
              "      <td>20</td>\n",
              "      <td>spam</td>\n",
              "    </tr>\n",
              "    <tr>\n",
              "      <th>5</th>\n",
              "      <td>0.00</td>\n",
              "      <td>0.00</td>\n",
              "      <td>0.27</td>\n",
              "      <td>0.0</td>\n",
              "      <td>0.81</td>\n",
              "      <td>0.81</td>\n",
              "      <td>0.00</td>\n",
              "      <td>2.98</td>\n",
              "      <td>0.54</td>\n",
              "      <td>0.81</td>\n",
              "      <td>...</td>\n",
              "      <td>0.000</td>\n",
              "      <td>0.040</td>\n",
              "      <td>0.000</td>\n",
              "      <td>0.565</td>\n",
              "      <td>0.121</td>\n",
              "      <td>0.00</td>\n",
              "      <td>1.617</td>\n",
              "      <td>18</td>\n",
              "      <td>131</td>\n",
              "      <td>spam</td>\n",
              "    </tr>\n",
              "    <tr>\n",
              "      <th>6</th>\n",
              "      <td>0.00</td>\n",
              "      <td>0.46</td>\n",
              "      <td>0.00</td>\n",
              "      <td>0.0</td>\n",
              "      <td>0.00</td>\n",
              "      <td>0.00</td>\n",
              "      <td>0.00</td>\n",
              "      <td>0.00</td>\n",
              "      <td>0.00</td>\n",
              "      <td>0.00</td>\n",
              "      <td>...</td>\n",
              "      <td>0.000</td>\n",
              "      <td>0.155</td>\n",
              "      <td>0.000</td>\n",
              "      <td>0.000</td>\n",
              "      <td>0.000</td>\n",
              "      <td>0.00</td>\n",
              "      <td>2.982</td>\n",
              "      <td>28</td>\n",
              "      <td>167</td>\n",
              "      <td>ham</td>\n",
              "    </tr>\n",
              "    <tr>\n",
              "      <th>7</th>\n",
              "      <td>0.00</td>\n",
              "      <td>0.00</td>\n",
              "      <td>0.00</td>\n",
              "      <td>0.0</td>\n",
              "      <td>0.00</td>\n",
              "      <td>0.00</td>\n",
              "      <td>0.00</td>\n",
              "      <td>0.00</td>\n",
              "      <td>0.00</td>\n",
              "      <td>0.00</td>\n",
              "      <td>...</td>\n",
              "      <td>0.000</td>\n",
              "      <td>0.000</td>\n",
              "      <td>0.138</td>\n",
              "      <td>0.000</td>\n",
              "      <td>0.000</td>\n",
              "      <td>0.00</td>\n",
              "      <td>1.228</td>\n",
              "      <td>4</td>\n",
              "      <td>43</td>\n",
              "      <td>ham</td>\n",
              "    </tr>\n",
              "    <tr>\n",
              "      <th>8</th>\n",
              "      <td>0.00</td>\n",
              "      <td>0.00</td>\n",
              "      <td>0.00</td>\n",
              "      <td>0.0</td>\n",
              "      <td>0.00</td>\n",
              "      <td>0.00</td>\n",
              "      <td>0.00</td>\n",
              "      <td>0.00</td>\n",
              "      <td>0.00</td>\n",
              "      <td>0.00</td>\n",
              "      <td>...</td>\n",
              "      <td>0.000</td>\n",
              "      <td>0.377</td>\n",
              "      <td>0.000</td>\n",
              "      <td>0.125</td>\n",
              "      <td>0.000</td>\n",
              "      <td>0.00</td>\n",
              "      <td>2.925</td>\n",
              "      <td>27</td>\n",
              "      <td>158</td>\n",
              "      <td>ham</td>\n",
              "    </tr>\n",
              "    <tr>\n",
              "      <th>9</th>\n",
              "      <td>0.00</td>\n",
              "      <td>0.00</td>\n",
              "      <td>0.00</td>\n",
              "      <td>0.0</td>\n",
              "      <td>0.00</td>\n",
              "      <td>0.00</td>\n",
              "      <td>0.00</td>\n",
              "      <td>0.00</td>\n",
              "      <td>0.00</td>\n",
              "      <td>0.00</td>\n",
              "      <td>...</td>\n",
              "      <td>0.000</td>\n",
              "      <td>0.000</td>\n",
              "      <td>0.000</td>\n",
              "      <td>0.000</td>\n",
              "      <td>0.000</td>\n",
              "      <td>0.00</td>\n",
              "      <td>4.333</td>\n",
              "      <td>11</td>\n",
              "      <td>13</td>\n",
              "      <td>ham</td>\n",
              "    </tr>\n",
              "  </tbody>\n",
              "</table>\n",
              "<p>10 rows × 58 columns</p>\n",
              "</div>\n",
              "    <div class=\"colab-df-buttons\">\n",
              "\n",
              "  <div class=\"colab-df-container\">\n",
              "    <button class=\"colab-df-convert\" onclick=\"convertToInteractive('df-99188514-0395-4fd4-becf-8a8b50ba198c')\"\n",
              "            title=\"Convert this dataframe to an interactive table.\"\n",
              "            style=\"display:none;\">\n",
              "\n",
              "  <svg xmlns=\"http://www.w3.org/2000/svg\" height=\"24px\" viewBox=\"0 -960 960 960\">\n",
              "    <path d=\"M120-120v-720h720v720H120Zm60-500h600v-160H180v160Zm220 220h160v-160H400v160Zm0 220h160v-160H400v160ZM180-400h160v-160H180v160Zm440 0h160v-160H620v160ZM180-180h160v-160H180v160Zm440 0h160v-160H620v160Z\"/>\n",
              "  </svg>\n",
              "    </button>\n",
              "\n",
              "  <style>\n",
              "    .colab-df-container {\n",
              "      display:flex;\n",
              "      gap: 12px;\n",
              "    }\n",
              "\n",
              "    .colab-df-convert {\n",
              "      background-color: #E8F0FE;\n",
              "      border: none;\n",
              "      border-radius: 50%;\n",
              "      cursor: pointer;\n",
              "      display: none;\n",
              "      fill: #1967D2;\n",
              "      height: 32px;\n",
              "      padding: 0 0 0 0;\n",
              "      width: 32px;\n",
              "    }\n",
              "\n",
              "    .colab-df-convert:hover {\n",
              "      background-color: #E2EBFA;\n",
              "      box-shadow: 0px 1px 2px rgba(60, 64, 67, 0.3), 0px 1px 3px 1px rgba(60, 64, 67, 0.15);\n",
              "      fill: #174EA6;\n",
              "    }\n",
              "\n",
              "    .colab-df-buttons div {\n",
              "      margin-bottom: 4px;\n",
              "    }\n",
              "\n",
              "    [theme=dark] .colab-df-convert {\n",
              "      background-color: #3B4455;\n",
              "      fill: #D2E3FC;\n",
              "    }\n",
              "\n",
              "    [theme=dark] .colab-df-convert:hover {\n",
              "      background-color: #434B5C;\n",
              "      box-shadow: 0px 1px 3px 1px rgba(0, 0, 0, 0.15);\n",
              "      filter: drop-shadow(0px 1px 2px rgba(0, 0, 0, 0.3));\n",
              "      fill: #FFFFFF;\n",
              "    }\n",
              "  </style>\n",
              "\n",
              "    <script>\n",
              "      const buttonEl =\n",
              "        document.querySelector('#df-99188514-0395-4fd4-becf-8a8b50ba198c button.colab-df-convert');\n",
              "      buttonEl.style.display =\n",
              "        google.colab.kernel.accessAllowed ? 'block' : 'none';\n",
              "\n",
              "      async function convertToInteractive(key) {\n",
              "        const element = document.querySelector('#df-99188514-0395-4fd4-becf-8a8b50ba198c');\n",
              "        const dataTable =\n",
              "          await google.colab.kernel.invokeFunction('convertToInteractive',\n",
              "                                                    [key], {});\n",
              "        if (!dataTable) return;\n",
              "\n",
              "        const docLinkHtml = 'Like what you see? Visit the ' +\n",
              "          '<a target=\"_blank\" href=https://colab.research.google.com/notebooks/data_table.ipynb>data table notebook</a>'\n",
              "          + ' to learn more about interactive tables.';\n",
              "        element.innerHTML = '';\n",
              "        dataTable['output_type'] = 'display_data';\n",
              "        await google.colab.output.renderOutput(dataTable, element);\n",
              "        const docLink = document.createElement('div');\n",
              "        docLink.innerHTML = docLinkHtml;\n",
              "        element.appendChild(docLink);\n",
              "      }\n",
              "    </script>\n",
              "  </div>\n",
              "\n",
              "\n",
              "<div id=\"df-563a32c4-13e7-4cbc-8ca3-22a9825fffba\">\n",
              "  <button class=\"colab-df-quickchart\" onclick=\"quickchart('df-563a32c4-13e7-4cbc-8ca3-22a9825fffba')\"\n",
              "            title=\"Suggest charts\"\n",
              "            style=\"display:none;\">\n",
              "\n",
              "<svg xmlns=\"http://www.w3.org/2000/svg\" height=\"24px\"viewBox=\"0 0 24 24\"\n",
              "     width=\"24px\">\n",
              "    <g>\n",
              "        <path d=\"M19 3H5c-1.1 0-2 .9-2 2v14c0 1.1.9 2 2 2h14c1.1 0 2-.9 2-2V5c0-1.1-.9-2-2-2zM9 17H7v-7h2v7zm4 0h-2V7h2v10zm4 0h-2v-4h2v4z\"/>\n",
              "    </g>\n",
              "</svg>\n",
              "  </button>\n",
              "\n",
              "<style>\n",
              "  .colab-df-quickchart {\n",
              "      --bg-color: #E8F0FE;\n",
              "      --fill-color: #1967D2;\n",
              "      --hover-bg-color: #E2EBFA;\n",
              "      --hover-fill-color: #174EA6;\n",
              "      --disabled-fill-color: #AAA;\n",
              "      --disabled-bg-color: #DDD;\n",
              "  }\n",
              "\n",
              "  [theme=dark] .colab-df-quickchart {\n",
              "      --bg-color: #3B4455;\n",
              "      --fill-color: #D2E3FC;\n",
              "      --hover-bg-color: #434B5C;\n",
              "      --hover-fill-color: #FFFFFF;\n",
              "      --disabled-bg-color: #3B4455;\n",
              "      --disabled-fill-color: #666;\n",
              "  }\n",
              "\n",
              "  .colab-df-quickchart {\n",
              "    background-color: var(--bg-color);\n",
              "    border: none;\n",
              "    border-radius: 50%;\n",
              "    cursor: pointer;\n",
              "    display: none;\n",
              "    fill: var(--fill-color);\n",
              "    height: 32px;\n",
              "    padding: 0;\n",
              "    width: 32px;\n",
              "  }\n",
              "\n",
              "  .colab-df-quickchart:hover {\n",
              "    background-color: var(--hover-bg-color);\n",
              "    box-shadow: 0 1px 2px rgba(60, 64, 67, 0.3), 0 1px 3px 1px rgba(60, 64, 67, 0.15);\n",
              "    fill: var(--button-hover-fill-color);\n",
              "  }\n",
              "\n",
              "  .colab-df-quickchart-complete:disabled,\n",
              "  .colab-df-quickchart-complete:disabled:hover {\n",
              "    background-color: var(--disabled-bg-color);\n",
              "    fill: var(--disabled-fill-color);\n",
              "    box-shadow: none;\n",
              "  }\n",
              "\n",
              "  .colab-df-spinner {\n",
              "    border: 2px solid var(--fill-color);\n",
              "    border-color: transparent;\n",
              "    border-bottom-color: var(--fill-color);\n",
              "    animation:\n",
              "      spin 1s steps(1) infinite;\n",
              "  }\n",
              "\n",
              "  @keyframes spin {\n",
              "    0% {\n",
              "      border-color: transparent;\n",
              "      border-bottom-color: var(--fill-color);\n",
              "      border-left-color: var(--fill-color);\n",
              "    }\n",
              "    20% {\n",
              "      border-color: transparent;\n",
              "      border-left-color: var(--fill-color);\n",
              "      border-top-color: var(--fill-color);\n",
              "    }\n",
              "    30% {\n",
              "      border-color: transparent;\n",
              "      border-left-color: var(--fill-color);\n",
              "      border-top-color: var(--fill-color);\n",
              "      border-right-color: var(--fill-color);\n",
              "    }\n",
              "    40% {\n",
              "      border-color: transparent;\n",
              "      border-right-color: var(--fill-color);\n",
              "      border-top-color: var(--fill-color);\n",
              "    }\n",
              "    60% {\n",
              "      border-color: transparent;\n",
              "      border-right-color: var(--fill-color);\n",
              "    }\n",
              "    80% {\n",
              "      border-color: transparent;\n",
              "      border-right-color: var(--fill-color);\n",
              "      border-bottom-color: var(--fill-color);\n",
              "    }\n",
              "    90% {\n",
              "      border-color: transparent;\n",
              "      border-bottom-color: var(--fill-color);\n",
              "    }\n",
              "  }\n",
              "</style>\n",
              "\n",
              "  <script>\n",
              "    async function quickchart(key) {\n",
              "      const quickchartButtonEl =\n",
              "        document.querySelector('#' + key + ' button');\n",
              "      quickchartButtonEl.disabled = true;  // To prevent multiple clicks.\n",
              "      quickchartButtonEl.classList.add('colab-df-spinner');\n",
              "      try {\n",
              "        const charts = await google.colab.kernel.invokeFunction(\n",
              "            'suggestCharts', [key], {});\n",
              "      } catch (error) {\n",
              "        console.error('Error during call to suggestCharts:', error);\n",
              "      }\n",
              "      quickchartButtonEl.classList.remove('colab-df-spinner');\n",
              "      quickchartButtonEl.classList.add('colab-df-quickchart-complete');\n",
              "    }\n",
              "    (() => {\n",
              "      let quickchartButtonEl =\n",
              "        document.querySelector('#df-563a32c4-13e7-4cbc-8ca3-22a9825fffba button');\n",
              "      quickchartButtonEl.style.display =\n",
              "        google.colab.kernel.accessAllowed ? 'block' : 'none';\n",
              "    })();\n",
              "  </script>\n",
              "</div>\n",
              "\n",
              "    </div>\n",
              "  </div>\n"
            ],
            "application/vnd.google.colaboratory.intrinsic+json": {
              "type": "dataframe",
              "variable_name": "df"
            }
          },
          "metadata": {},
          "execution_count": 74
        }
      ],
      "source": [
        "#To display the top 10 rows.\n",
        "df.head(10)"
      ]
    },
    {
      "cell_type": "code",
      "execution_count": 75,
      "id": "302aacd5",
      "metadata": {
        "colab": {
          "base_uri": "https://localhost:8080/"
        },
        "id": "302aacd5",
        "outputId": "750508b5-dfd9-4e57-88d3-f16f842bc670"
      },
      "outputs": [
        {
          "output_type": "execute_result",
          "data": {
            "text/plain": [
              "make          0\n",
              "address       0\n",
              "all           0\n",
              "3d            0\n",
              "our           0\n",
              "over          0\n",
              "remove        0\n",
              "internet      0\n",
              "order         0\n",
              "mail          0\n",
              "receive       0\n",
              "will          0\n",
              "people        0\n",
              "report        0\n",
              "addresses     0\n",
              "free          0\n",
              "business      0\n",
              "email         0\n",
              "you           0\n",
              "credit        0\n",
              "your          0\n",
              "font          0\n",
              "0             0\n",
              "money         0\n",
              "hp            0\n",
              "hpl           0\n",
              "george        0\n",
              "650           0\n",
              "lab           0\n",
              "labs          0\n",
              "telnet        0\n",
              "857           0\n",
              "data          0\n",
              "415           0\n",
              "85            0\n",
              "technology    0\n",
              "1999          0\n",
              "parts         0\n",
              "pm            0\n",
              "direct        0\n",
              "cs            0\n",
              "meeting       0\n",
              "original      0\n",
              "project       0\n",
              "re            0\n",
              "edu           0\n",
              "table         0\n",
              "conference    0\n",
              "semicol       0\n",
              "paren         0\n",
              "bracket       0\n",
              "bang          0\n",
              "dollar        0\n",
              "pound         0\n",
              "cap_avg       0\n",
              "cap_long      0\n",
              "cap_total     0\n",
              "Class         0\n",
              "dtype: int64"
            ]
          },
          "metadata": {},
          "execution_count": 75
        }
      ],
      "source": [
        "# To verify if there are any null missing values.\n",
        "df.isna().sum()"
      ]
    },
    {
      "cell_type": "code",
      "execution_count": 76,
      "id": "bb2d0080",
      "metadata": {
        "colab": {
          "base_uri": "https://localhost:8080/",
          "height": 466
        },
        "id": "bb2d0080",
        "outputId": "304d8ed3-e6af-4c05-aa5e-05a870139378"
      },
      "outputs": [
        {
          "output_type": "execute_result",
          "data": {
            "text/plain": [
              "<Axes: xlabel='count', ylabel='Class'>"
            ]
          },
          "metadata": {},
          "execution_count": 76
        },
        {
          "output_type": "display_data",
          "data": {
            "text/plain": [
              "<Figure size 640x480 with 1 Axes>"
            ],
            "image/png": "[encoded data removed]"
          },
          "metadata": {}
        }
      ],
      "source": [
        "# To Check the distribution of target variable.\n",
        "sns.countplot(df['Class'])"
      ]
    },
    {
      "cell_type": "code",
      "execution_count": 77,
      "id": "d08233fa",
      "metadata": {
        "colab": {
          "base_uri": "https://localhost:8080/",
          "height": 443
        },
        "id": "d08233fa",
        "outputId": "6eb4bb71-57ce-46ea-fa0f-ddd55c104294"
      },
      "outputs": [
        {
          "output_type": "execute_result",
          "data": {
            "text/plain": [
              "      make  address   all   3d   our  over  remove  internet  order  mail  \\\n",
              "0     0.00     0.00  0.29  0.0  0.00  0.00    0.00      0.00   0.00  0.00   \n",
              "1     0.46     0.00  0.00  0.0  0.00  0.00    0.00      0.00   0.00  0.00   \n",
              "2     0.00     0.00  0.00  0.0  0.00  0.00    0.00      0.00   0.00  0.00   \n",
              "3     0.33     0.44  0.37  0.0  0.14  0.11    0.00      0.07   0.97  1.16   \n",
              "4     0.00     2.08  0.00  0.0  3.12  0.00    1.04      0.00   0.00  0.00   \n",
              "...    ...      ...   ...  ...   ...   ...     ...       ...    ...   ...   \n",
              "4596  0.00     0.00  0.53  0.0  0.00  0.53    0.00      0.00   0.00  0.53   \n",
              "4597  0.00     0.00  0.00  0.0  0.00  0.00    0.00      0.00   0.00  0.00   \n",
              "4598  0.00     0.00  0.00  0.0  0.00  0.00    0.00      0.00   0.00  0.00   \n",
              "4599  0.00     0.00  0.00  0.0  0.00  0.00    0.00      0.00   0.00  0.00   \n",
              "4600  0.13     0.26  0.52  0.0  0.26  0.00    0.13      0.00   0.00  0.39   \n",
              "\n",
              "      ...  semicol  paren  bracket   bang  dollar  pound  cap_avg  cap_long  \\\n",
              "0     ...    0.000  0.178      0.0  0.044   0.000   0.00    1.666        10   \n",
              "1     ...    0.000  0.125      0.0  0.000   0.000   0.00    1.510        10   \n",
              "2     ...    0.000  0.000      0.0  0.000   0.000   0.00    1.718        11   \n",
              "3     ...    0.006  0.159      0.0  0.069   0.221   0.11    3.426        72   \n",
              "4     ...    0.000  0.000      0.0  0.263   0.000   0.00    1.428         4   \n",
              "...   ...      ...    ...      ...    ...     ...    ...      ...       ...   \n",
              "4596  ...    0.000  0.101      0.0  0.000   0.000   0.00    1.857        16   \n",
              "4597  ...    0.000  0.443      0.0  0.221   0.665   0.00    3.812        15   \n",
              "4598  ...    0.000  0.000      0.0  0.000   0.000   0.00    1.000         1   \n",
              "4599  ...    0.000  0.218      0.0  0.218   0.000   0.00    1.687        10   \n",
              "4600  ...    0.000  0.000      0.0  0.366   0.000   0.04    7.138       149   \n",
              "\n",
              "      cap_total  Class  \n",
              "0           180      0  \n",
              "1            74      0  \n",
              "2            55      0  \n",
              "3           819      1  \n",
              "4            20      1  \n",
              "...         ...    ...  \n",
              "4596         52      0  \n",
              "4597         61      1  \n",
              "4598          3      0  \n",
              "4599         27      0  \n",
              "4600       1235      1  \n",
              "\n",
              "[4601 rows x 58 columns]"
            ],
            "text/html": [
              "\n",
              "  <div id=\"df-c0d12c9c-c92d-45b2-a20c-3d4027a6d0d2\" class=\"colab-df-container\">\n",
              "    <div>\n",
              "<style scoped>\n",
              "    .dataframe tbody tr th:only-of-type {\n",
              "        vertical-align: middle;\n",
              "    }\n",
              "\n",
              "    .dataframe tbody tr th {\n",
              "        vertical-align: top;\n",
              "    }\n",
              "\n",
              "    .dataframe thead th {\n",
              "        text-align: right;\n",
              "    }\n",
              "</style>\n",
              "<table border=\"1\" class=\"dataframe\">\n",
              "  <thead>\n",
              "    <tr style=\"text-align: right;\">\n",
              "      <th></th>\n",
              "      <th>make</th>\n",
              "      <th>address</th>\n",
              "      <th>all</th>\n",
              "      <th>3d</th>\n",
              "      <th>our</th>\n",
              "      <th>over</th>\n",
              "      <th>remove</th>\n",
              "      <th>internet</th>\n",
              "      <th>order</th>\n",
              "      <th>mail</th>\n",
              "      <th>...</th>\n",
              "      <th>semicol</th>\n",
              "      <th>paren</th>\n",
              "      <th>bracket</th>\n",
              "      <th>bang</th>\n",
              "      <th>dollar</th>\n",
              "      <th>pound</th>\n",
              "      <th>cap_avg</th>\n",
              "      <th>cap_long</th>\n",
              "      <th>cap_total</th>\n",
              "      <th>Class</th>\n",
              "    </tr>\n",
              "  </thead>\n",
              "  <tbody>\n",
              "    <tr>\n",
              "      <th>0</th>\n",
              "      <td>0.00</td>\n",
              "      <td>0.00</td>\n",
              "      <td>0.29</td>\n",
              "      <td>0.0</td>\n",
              "      <td>0.00</td>\n",
              "      <td>0.00</td>\n",
              "      <td>0.00</td>\n",
              "      <td>0.00</td>\n",
              "      <td>0.00</td>\n",
              "      <td>0.00</td>\n",
              "      <td>...</td>\n",
              "      <td>0.000</td>\n",
              "      <td>0.178</td>\n",
              "      <td>0.0</td>\n",
              "      <td>0.044</td>\n",
              "      <td>0.000</td>\n",
              "      <td>0.00</td>\n",
              "      <td>1.666</td>\n",
              "      <td>10</td>\n",
              "      <td>180</td>\n",
              "      <td>0</td>\n",
              "    </tr>\n",
              "    <tr>\n",
              "      <th>1</th>\n",
              "      <td>0.46</td>\n",
              "      <td>0.00</td>\n",
              "      <td>0.00</td>\n",
              "      <td>0.0</td>\n",
              "      <td>0.00</td>\n",
              "      <td>0.00</td>\n",
              "      <td>0.00</td>\n",
              "      <td>0.00</td>\n",
              "      <td>0.00</td>\n",
              "      <td>0.00</td>\n",
              "      <td>...</td>\n",
              "      <td>0.000</td>\n",
              "      <td>0.125</td>\n",
              "      <td>0.0</td>\n",
              "      <td>0.000</td>\n",
              "      <td>0.000</td>\n",
              "      <td>0.00</td>\n",
              "      <td>1.510</td>\n",
              "      <td>10</td>\n",
              "      <td>74</td>\n",
              "      <td>0</td>\n",
              "    </tr>\n",
              "    <tr>\n",
              "      <th>2</th>\n",
              "      <td>0.00</td>\n",
              "      <td>0.00</td>\n",
              "      <td>0.00</td>\n",
              "      <td>0.0</td>\n",
              "      <td>0.00</td>\n",
              "      <td>0.00</td>\n",
              "      <td>0.00</td>\n",
              "      <td>0.00</td>\n",
              "      <td>0.00</td>\n",
              "      <td>0.00</td>\n",
              "      <td>...</td>\n",
              "      <td>0.000</td>\n",
              "      <td>0.000</td>\n",
              "      <td>0.0</td>\n",
              "      <td>0.000</td>\n",
              "      <td>0.000</td>\n",
              "      <td>0.00</td>\n",
              "      <td>1.718</td>\n",
              "      <td>11</td>\n",
              "      <td>55</td>\n",
              "      <td>0</td>\n",
              "    </tr>\n",
              "    <tr>\n",
              "      <th>3</th>\n",
              "      <td>0.33</td>\n",
              "      <td>0.44</td>\n",
              "      <td>0.37</td>\n",
              "      <td>0.0</td>\n",
              "      <td>0.14</td>\n",
              "      <td>0.11</td>\n",
              "      <td>0.00</td>\n",
              "      <td>0.07</td>\n",
              "      <td>0.97</td>\n",
              "      <td>1.16</td>\n",
              "      <td>...</td>\n",
              "      <td>0.006</td>\n",
              "      <td>0.159</td>\n",
              "      <td>0.0</td>\n",
              "      <td>0.069</td>\n",
              "      <td>0.221</td>\n",
              "      <td>0.11</td>\n",
              "      <td>3.426</td>\n",
              "      <td>72</td>\n",
              "      <td>819</td>\n",
              "      <td>1</td>\n",
              "    </tr>\n",
              "    <tr>\n",
              "      <th>4</th>\n",
              "      <td>0.00</td>\n",
              "      <td>2.08</td>\n",
              "      <td>0.00</td>\n",
              "      <td>0.0</td>\n",
              "      <td>3.12</td>\n",
              "      <td>0.00</td>\n",
              "      <td>1.04</td>\n",
              "      <td>0.00</td>\n",
              "      <td>0.00</td>\n",
              "      <td>0.00</td>\n",
              "      <td>...</td>\n",
              "      <td>0.000</td>\n",
              "      <td>0.000</td>\n",
              "      <td>0.0</td>\n",
              "      <td>0.263</td>\n",
              "      <td>0.000</td>\n",
              "      <td>0.00</td>\n",
              "      <td>1.428</td>\n",
              "      <td>4</td>\n",
              "      <td>20</td>\n",
              "      <td>1</td>\n",
              "    </tr>\n",
              "    <tr>\n",
              "      <th>...</th>\n",
              "      <td>...</td>\n",
              "      <td>...</td>\n",
              "      <td>...</td>\n",
              "      <td>...</td>\n",
              "      <td>...</td>\n",
              "      <td>...</td>\n",
              "      <td>...</td>\n",
              "      <td>...</td>\n",
              "      <td>...</td>\n",
              "      <td>...</td>\n",
              "      <td>...</td>\n",
              "      <td>...</td>\n",
              "      <td>...</td>\n",
              "      <td>...</td>\n",
              "      <td>...</td>\n",
              "      <td>...</td>\n",
              "      <td>...</td>\n",
              "      <td>...</td>\n",
              "      <td>...</td>\n",
              "      <td>...</td>\n",
              "      <td>...</td>\n",
              "    </tr>\n",
              "    <tr>\n",
              "      <th>4596</th>\n",
              "      <td>0.00</td>\n",
              "      <td>0.00</td>\n",
              "      <td>0.53</td>\n",
              "      <td>0.0</td>\n",
              "      <td>0.00</td>\n",
              "      <td>0.53</td>\n",
              "      <td>0.00</td>\n",
              "      <td>0.00</td>\n",
              "      <td>0.00</td>\n",
              "      <td>0.53</td>\n",
              "      <td>...</td>\n",
              "      <td>0.000</td>\n",
              "      <td>0.101</td>\n",
              "      <td>0.0</td>\n",
              "      <td>0.000</td>\n",
              "      <td>0.000</td>\n",
              "      <td>0.00</td>\n",
              "      <td>1.857</td>\n",
              "      <td>16</td>\n",
              "      <td>52</td>\n",
              "      <td>0</td>\n",
              "    </tr>\n",
              "    <tr>\n",
              "      <th>4597</th>\n",
              "      <td>0.00</td>\n",
              "      <td>0.00</td>\n",
              "      <td>0.00</td>\n",
              "      <td>0.0</td>\n",
              "      <td>0.00</td>\n",
              "      <td>0.00</td>\n",
              "      <td>0.00</td>\n",
              "      <td>0.00</td>\n",
              "      <td>0.00</td>\n",
              "      <td>0.00</td>\n",
              "      <td>...</td>\n",
              "      <td>0.000</td>\n",
              "      <td>0.443</td>\n",
              "      <td>0.0</td>\n",
              "      <td>0.221</td>\n",
              "      <td>0.665</td>\n",
              "      <td>0.00</td>\n",
              "      <td>3.812</td>\n",
              "      <td>15</td>\n",
              "      <td>61</td>\n",
              "      <td>1</td>\n",
              "    </tr>\n",
              "    <tr>\n",
              "      <th>4598</th>\n",
              "      <td>0.00</td>\n",
              "      <td>0.00</td>\n",
              "      <td>0.00</td>\n",
              "      <td>0.0</td>\n",
              "      <td>0.00</td>\n",
              "      <td>0.00</td>\n",
              "      <td>0.00</td>\n",
              "      <td>0.00</td>\n",
              "      <td>0.00</td>\n",
              "      <td>0.00</td>\n",
              "      <td>...</td>\n",
              "      <td>0.000</td>\n",
              "      <td>0.000</td>\n",
              "      <td>0.0</td>\n",
              "      <td>0.000</td>\n",
              "      <td>0.000</td>\n",
              "      <td>0.00</td>\n",
              "      <td>1.000</td>\n",
              "      <td>1</td>\n",
              "      <td>3</td>\n",
              "      <td>0</td>\n",
              "    </tr>\n",
              "    <tr>\n",
              "      <th>4599</th>\n",
              "      <td>0.00</td>\n",
              "      <td>0.00</td>\n",
              "      <td>0.00</td>\n",
              "      <td>0.0</td>\n",
              "      <td>0.00</td>\n",
              "      <td>0.00</td>\n",
              "      <td>0.00</td>\n",
              "      <td>0.00</td>\n",
              "      <td>0.00</td>\n",
              "      <td>0.00</td>\n",
              "      <td>...</td>\n",
              "      <td>0.000</td>\n",
              "      <td>0.218</td>\n",
              "      <td>0.0</td>\n",
              "      <td>0.218</td>\n",
              "      <td>0.000</td>\n",
              "      <td>0.00</td>\n",
              "      <td>1.687</td>\n",
              "      <td>10</td>\n",
              "      <td>27</td>\n",
              "      <td>0</td>\n",
              "    </tr>\n",
              "    <tr>\n",
              "      <th>4600</th>\n",
              "      <td>0.13</td>\n",
              "      <td>0.26</td>\n",
              "      <td>0.52</td>\n",
              "      <td>0.0</td>\n",
              "      <td>0.26</td>\n",
              "      <td>0.00</td>\n",
              "      <td>0.13</td>\n",
              "      <td>0.00</td>\n",
              "      <td>0.00</td>\n",
              "      <td>0.39</td>\n",
              "      <td>...</td>\n",
              "      <td>0.000</td>\n",
              "      <td>0.000</td>\n",
              "      <td>0.0</td>\n",
              "      <td>0.366</td>\n",
              "      <td>0.000</td>\n",
              "      <td>0.04</td>\n",
              "      <td>7.138</td>\n",
              "      <td>149</td>\n",
              "      <td>1235</td>\n",
              "      <td>1</td>\n",
              "    </tr>\n",
              "  </tbody>\n",
              "</table>\n",
              "<p>4601 rows × 58 columns</p>\n",
              "</div>\n",
              "    <div class=\"colab-df-buttons\">\n",
              "\n",
              "  <div class=\"colab-df-container\">\n",
              "    <button class=\"colab-df-convert\" onclick=\"convertToInteractive('df-c0d12c9c-c92d-45b2-a20c-3d4027a6d0d2')\"\n",
              "            title=\"Convert this dataframe to an interactive table.\"\n",
              "            style=\"display:none;\">\n",
              "\n",
              "  <svg xmlns=\"http://www.w3.org/2000/svg\" height=\"24px\" viewBox=\"0 -960 960 960\">\n",
              "    <path d=\"M120-120v-720h720v720H120Zm60-500h600v-160H180v160Zm220 220h160v-160H400v160Zm0 220h160v-160H400v160ZM180-400h160v-160H180v160Zm440 0h160v-160H620v160ZM180-180h160v-160H180v160Zm440 0h160v-160H620v160Z\"/>\n",
              "  </svg>\n",
              "    </button>\n",
              "\n",
              "  <style>\n",
              "    .colab-df-container {\n",
              "      display:flex;\n",
              "      gap: 12px;\n",
              "    }\n",
              "\n",
              "    .colab-df-convert {\n",
              "      background-color: #E8F0FE;\n",
              "      border: none;\n",
              "      border-radius: 50%;\n",
              "      cursor: pointer;\n",
              "      display: none;\n",
              "      fill: #1967D2;\n",
              "      height: 32px;\n",
              "      padding: 0 0 0 0;\n",
              "      width: 32px;\n",
              "    }\n",
              "\n",
              "    .colab-df-convert:hover {\n",
              "      background-color: #E2EBFA;\n",
              "      box-shadow: 0px 1px 2px rgba(60, 64, 67, 0.3), 0px 1px 3px 1px rgba(60, 64, 67, 0.15);\n",
              "      fill: #174EA6;\n",
              "    }\n",
              "\n",
              "    .colab-df-buttons div {\n",
              "      margin-bottom: 4px;\n",
              "    }\n",
              "\n",
              "    [theme=dark] .colab-df-convert {\n",
              "      background-color: #3B4455;\n",
              "      fill: #D2E3FC;\n",
              "    }\n",
              "\n",
              "    [theme=dark] .colab-df-convert:hover {\n",
              "      background-color: #434B5C;\n",
              "      box-shadow: 0px 1px 3px 1px rgba(0, 0, 0, 0.15);\n",
              "      filter: drop-shadow(0px 1px 2px rgba(0, 0, 0, 0.3));\n",
              "      fill: #FFFFFF;\n",
              "    }\n",
              "  </style>\n",
              "\n",
              "    <script>\n",
              "      const buttonEl =\n",
              "        document.querySelector('#df-c0d12c9c-c92d-45b2-a20c-3d4027a6d0d2 button.colab-df-convert');\n",
              "      buttonEl.style.display =\n",
              "        google.colab.kernel.accessAllowed ? 'block' : 'none';\n",
              "\n",
              "      async function convertToInteractive(key) {\n",
              "        const element = document.querySelector('#df-c0d12c9c-c92d-45b2-a20c-3d4027a6d0d2');\n",
              "        const dataTable =\n",
              "          await google.colab.kernel.invokeFunction('convertToInteractive',\n",
              "                                                    [key], {});\n",
              "        if (!dataTable) return;\n",
              "\n",
              "        const docLinkHtml = 'Like what you see? Visit the ' +\n",
              "          '<a target=\"_blank\" href=https://colab.research.google.com/notebooks/data_table.ipynb>data table notebook</a>'\n",
              "          + ' to learn more about interactive tables.';\n",
              "        element.innerHTML = '';\n",
              "        dataTable['output_type'] = 'display_data';\n",
              "        await google.colab.output.renderOutput(dataTable, element);\n",
              "        const docLink = document.createElement('div');\n",
              "        docLink.innerHTML = docLinkHtml;\n",
              "        element.appendChild(docLink);\n",
              "      }\n",
              "    </script>\n",
              "  </div>\n",
              "\n",
              "\n",
              "<div id=\"df-db9f7535-9a11-466d-9597-e6bb76c0985c\">\n",
              "  <button class=\"colab-df-quickchart\" onclick=\"quickchart('df-db9f7535-9a11-466d-9597-e6bb76c0985c')\"\n",
              "            title=\"Suggest charts\"\n",
              "            style=\"display:none;\">\n",
              "\n",
              "<svg xmlns=\"http://www.w3.org/2000/svg\" height=\"24px\"viewBox=\"0 0 24 24\"\n",
              "     width=\"24px\">\n",
              "    <g>\n",
              "        <path d=\"M19 3H5c-1.1 0-2 .9-2 2v14c0 1.1.9 2 2 2h14c1.1 0 2-.9 2-2V5c0-1.1-.9-2-2-2zM9 17H7v-7h2v7zm4 0h-2V7h2v10zm4 0h-2v-4h2v4z\"/>\n",
              "    </g>\n",
              "</svg>\n",
              "  </button>\n",
              "\n",
              "<style>\n",
              "  .colab-df-quickchart {\n",
              "      --bg-color: #E8F0FE;\n",
              "      --fill-color: #1967D2;\n",
              "      --hover-bg-color: #E2EBFA;\n",
              "      --hover-fill-color: #174EA6;\n",
              "      --disabled-fill-color: #AAA;\n",
              "      --disabled-bg-color: #DDD;\n",
              "  }\n",
              "\n",
              "  [theme=dark] .colab-df-quickchart {\n",
              "      --bg-color: #3B4455;\n",
              "      --fill-color: #D2E3FC;\n",
              "      --hover-bg-color: #434B5C;\n",
              "      --hover-fill-color: #FFFFFF;\n",
              "      --disabled-bg-color: #3B4455;\n",
              "      --disabled-fill-color: #666;\n",
              "  }\n",
              "\n",
              "  .colab-df-quickchart {\n",
              "    background-color: var(--bg-color);\n",
              "    border: none;\n",
              "    border-radius: 50%;\n",
              "    cursor: pointer;\n",
              "    display: none;\n",
              "    fill: var(--fill-color);\n",
              "    height: 32px;\n",
              "    padding: 0;\n",
              "    width: 32px;\n",
              "  }\n",
              "\n",
              "  .colab-df-quickchart:hover {\n",
              "    background-color: var(--hover-bg-color);\n",
              "    box-shadow: 0 1px 2px rgba(60, 64, 67, 0.3), 0 1px 3px 1px rgba(60, 64, 67, 0.15);\n",
              "    fill: var(--button-hover-fill-color);\n",
              "  }\n",
              "\n",
              "  .colab-df-quickchart-complete:disabled,\n",
              "  .colab-df-quickchart-complete:disabled:hover {\n",
              "    background-color: var(--disabled-bg-color);\n",
              "    fill: var(--disabled-fill-color);\n",
              "    box-shadow: none;\n",
              "  }\n",
              "\n",
              "  .colab-df-spinner {\n",
              "    border: 2px solid var(--fill-color);\n",
              "    border-color: transparent;\n",
              "    border-bottom-color: var(--fill-color);\n",
              "    animation:\n",
              "      spin 1s steps(1) infinite;\n",
              "  }\n",
              "\n",
              "  @keyframes spin {\n",
              "    0% {\n",
              "      border-color: transparent;\n",
              "      border-bottom-color: var(--fill-color);\n",
              "      border-left-color: var(--fill-color);\n",
              "    }\n",
              "    20% {\n",
              "      border-color: transparent;\n",
              "      border-left-color: var(--fill-color);\n",
              "      border-top-color: var(--fill-color);\n",
              "    }\n",
              "    30% {\n",
              "      border-color: transparent;\n",
              "      border-left-color: var(--fill-color);\n",
              "      border-top-color: var(--fill-color);\n",
              "      border-right-color: var(--fill-color);\n",
              "    }\n",
              "    40% {\n",
              "      border-color: transparent;\n",
              "      border-right-color: var(--fill-color);\n",
              "      border-top-color: var(--fill-color);\n",
              "    }\n",
              "    60% {\n",
              "      border-color: transparent;\n",
              "      border-right-color: var(--fill-color);\n",
              "    }\n",
              "    80% {\n",
              "      border-color: transparent;\n",
              "      border-right-color: var(--fill-color);\n",
              "      border-bottom-color: var(--fill-color);\n",
              "    }\n",
              "    90% {\n",
              "      border-color: transparent;\n",
              "      border-bottom-color: var(--fill-color);\n",
              "    }\n",
              "  }\n",
              "</style>\n",
              "\n",
              "  <script>\n",
              "    async function quickchart(key) {\n",
              "      const quickchartButtonEl =\n",
              "        document.querySelector('#' + key + ' button');\n",
              "      quickchartButtonEl.disabled = true;  // To prevent multiple clicks.\n",
              "      quickchartButtonEl.classList.add('colab-df-spinner');\n",
              "      try {\n",
              "        const charts = await google.colab.kernel.invokeFunction(\n",
              "            'suggestCharts', [key], {});\n",
              "      } catch (error) {\n",
              "        console.error('Error during call to suggestCharts:', error);\n",
              "      }\n",
              "      quickchartButtonEl.classList.remove('colab-df-spinner');\n",
              "      quickchartButtonEl.classList.add('colab-df-quickchart-complete');\n",
              "    }\n",
              "    (() => {\n",
              "      let quickchartButtonEl =\n",
              "        document.querySelector('#df-db9f7535-9a11-466d-9597-e6bb76c0985c button');\n",
              "      quickchartButtonEl.style.display =\n",
              "        google.colab.kernel.accessAllowed ? 'block' : 'none';\n",
              "    })();\n",
              "  </script>\n",
              "</div>\n",
              "\n",
              "  <div id=\"id_9cea75eb-44fa-4242-9564-ab11881682e9\">\n",
              "    <style>\n",
              "      .colab-df-generate {\n",
              "        background-color: #E8F0FE;\n",
              "        border: none;\n",
              "        border-radius: 50%;\n",
              "        cursor: pointer;\n",
              "        display: none;\n",
              "        fill: #1967D2;\n",
              "        height: 32px;\n",
              "        padding: 0 0 0 0;\n",
              "        width: 32px;\n",
              "      }\n",
              "\n",
              "      .colab-df-generate:hover {\n",
              "        background-color: #E2EBFA;\n",
              "        box-shadow: 0px 1px 2px rgba(60, 64, 67, 0.3), 0px 1px 3px 1px rgba(60, 64, 67, 0.15);\n",
              "        fill: #174EA6;\n",
              "      }\n",
              "\n",
              "      [theme=dark] .colab-df-generate {\n",
              "        background-color: #3B4455;\n",
              "        fill: #D2E3FC;\n",
              "      }\n",
              "\n",
              "      [theme=dark] .colab-df-generate:hover {\n",
              "        background-color: #434B5C;\n",
              "        box-shadow: 0px 1px 3px 1px rgba(0, 0, 0, 0.15);\n",
              "        filter: drop-shadow(0px 1px 2px rgba(0, 0, 0, 0.3));\n",
              "        fill: #FFFFFF;\n",
              "      }\n",
              "    </style>\n",
              "    <button class=\"colab-df-generate\" onclick=\"generateWithVariable('df')\"\n",
              "            title=\"Generate code using this dataframe.\"\n",
              "            style=\"display:none;\">\n",
              "\n",
              "  <svg xmlns=\"http://www.w3.org/2000/svg\" height=\"24px\"viewBox=\"0 0 24 24\"\n",
              "       width=\"24px\">\n",
              "    <path d=\"M7,19H8.4L18.45,9,17,7.55,7,17.6ZM5,21V16.75L18.45,3.32a2,2,0,0,1,2.83,0l1.4,1.43a1.91,1.91,0,0,1,.58,1.4,1.91,1.91,0,0,1-.58,1.4L9.25,21ZM18.45,9,17,7.55Zm-12,3A5.31,5.31,0,0,0,4.9,8.1,5.31,5.31,0,0,0,1,6.5,5.31,5.31,0,0,0,4.9,4.9,5.31,5.31,0,0,0,6.5,1,5.31,5.31,0,0,0,8.1,4.9,5.31,5.31,0,0,0,12,6.5,5.46,5.46,0,0,0,6.5,12Z\"/>\n",
              "  </svg>\n",
              "    </button>\n",
              "    <script>\n",
              "      (() => {\n",
              "      const buttonEl =\n",
              "        document.querySelector('#id_9cea75eb-44fa-4242-9564-ab11881682e9 button.colab-df-generate');\n",
              "      buttonEl.style.display =\n",
              "        google.colab.kernel.accessAllowed ? 'block' : 'none';\n",
              "\n",
              "      buttonEl.onclick = () => {\n",
              "        google.colab.notebook.generateWithVariable('df');\n",
              "      }\n",
              "      })();\n",
              "    </script>\n",
              "  </div>\n",
              "\n",
              "    </div>\n",
              "  </div>\n"
            ],
            "application/vnd.google.colaboratory.intrinsic+json": {
              "type": "dataframe",
              "variable_name": "df"
            }
          },
          "metadata": {},
          "execution_count": 77
        }
      ],
      "source": [
        "# Replacing the categorical variables to binary variables.\n",
        "df['Class']=df[\"Class\"].replace({\"ham\":0,\"spam\":1})\n",
        "df"
      ]
    },
    {
      "cell_type": "code",
      "execution_count": 78,
      "id": "94f63bc6",
      "metadata": {
        "id": "94f63bc6"
      },
      "outputs": [],
      "source": [
        "# Dividing the data as per independent\n",
        "x=df.drop(columns=[\"Class\"],axis=1)"
      ]
    },
    {
      "cell_type": "code",
      "execution_count": 79,
      "id": "13fe17d4",
      "metadata": {
        "id": "13fe17d4"
      },
      "outputs": [],
      "source": [
        "# Seperate the target variable.\n",
        "y=df[\"Class\"].values"
      ]
    },
    {
      "cell_type": "code",
      "execution_count": 80,
      "id": "cb3129fa",
      "metadata": {
        "id": "cb3129fa"
      },
      "outputs": [],
      "source": [
        "# Splitting the data as per the test_size = 0.78 which considers the 1012 rows for training data.\n",
        "# 4601 Rows, 1012 as Training and 3589 as Testing data.\n",
        "# Random state is a parameter used to control the randomness of a sample. The model will always provide a same results if it has a definite value of random state, and if it has been same training data and same hyperparameters.\n",
        "from sklearn.model_selection import train_test_split\n",
        "x_train,x_test,y_train,y_test=train_test_split(x,y, train_size=1000,random_state=44)"
      ]
    },
    {
      "cell_type": "code",
      "execution_count": 81,
      "id": "ce6ba8b7",
      "metadata": {
        "colab": {
          "base_uri": "https://localhost:8080/"
        },
        "id": "ce6ba8b7",
        "outputId": "9d4401b5-b608-4eab-ca6c-2376dbbbdc35"
      },
      "outputs": [
        {
          "output_type": "stream",
          "name": "stdout",
          "text": [
            "1000\n",
            "3601\n"
          ]
        }
      ],
      "source": [
        "# To display the train data and test data.\n",
        "print(x_train.shape[0])\n",
        "print(x_test.shape[0])"
      ]
    },
    {
      "cell_type": "code",
      "execution_count": 82,
      "id": "e9c15c65",
      "metadata": {
        "colab": {
          "base_uri": "https://localhost:8080/"
        },
        "id": "e9c15c65",
        "outputId": "bb0e1114-f0df-4d5a-a0a3-74c312b4ad4d"
      },
      "outputs": [
        {
          "output_type": "stream",
          "name": "stdout",
          "text": [
            "[0 0 0 0 1 1 0 0 1 0 1 0 0 0 1 1 0 1 1 0 0 0 0 0 0 1 0 0 1 1 0 1 1 1 0 1 1\n",
            " 1 1 0 0 1 1 0 0 0 0 1 0 1 0 1 0 1 0 1 0 0 1 0 0 0 0 1 1 0 0 0 0 0 0 0 0 1\n",
            " 0 0 1 0 0 0 0 1 0 1 0 0 0 1 1 0 0 0 0 1 1 0 0 1 0 1 0 0 0 0 1 0 0 0 0 0 1\n",
            " 0 0 0 0 0 0 0 0 0 1 1 0 0 1 0 0 0 0 0 0 0 0 0 1 0 0 0 1 1 0 0 0 0 1 0 1 1\n",
            " 1 1 0 1 1 0 0 0 0 0 0 0 0 1 1 1 1 1 0 0 0 0 1 1 0 0 0 0 0 1 1 0 1 0 0 1 1\n",
            " 0 1 1 0 0 1 1 0 1 0 0 0 1 0 1 0 0 1 0 0 0 1 0 0 0 0 0 1 1 0 1 1 1 1 0 0 1\n",
            " 1 0 0 1 0 0 0 0 0 0 0 0 1 0 0 1 0 1 0 1 0 0 1 0 0 1 0 1 1 1 0 1 0 0 0 1 1\n",
            " 1 1 1 1 0 0 1 0 0 0 0 1 0 1 0 0 1 0 0 0 1 0 0 1 1 1 0 0 1 0 1 0 0 0 1 1 1\n",
            " 1 1 1 1 1 0 0 0 0 1 0 0 0 0 0 1 1 1 1 0 0 0 0 1 0 0 0 0 0 1 1 1 0 0 1 0 0\n",
            " 0 0 1 1 1 1 0 1 1 1 0 0 0 0 0 0 0 0 0 0 1 0 0 1 0 1 1 1 0 1 1 0 0 0 0 0 1\n",
            " 1 1 0 1 0 1 1 0 0 0 1 0 0 1 1 1 1 1 0 0 1 0 1 0 0 0 1 0 1 1 0 1 1 0 0 1 0\n",
            " 0 1 0 0 0 0 0 0 1 0 1 1 0 0 1 0 0 0 0 1 0 0 0 0 1 0 0 0 1 0 0 1 0 0 1 1 0\n",
            " 0 0 0 1 1 0 0 0 1 0 1 0 0 0 0 0 0 0 1 0 0 0 0 1 0 0 1 0 0 0 0 0 0 0 0 0 0\n",
            " 0 1 0 1 0 1 0 0 0 0 0 1 0 0 0 0 1 0 1 0 0 0 0 0 0 1 0 0 1 0 1 0 1 0 0 0 1\n",
            " 1 0 1 1 0 0 1 1 0 0 0 0 1 1 0 0 0 1 0 0 1 0 1 0 0 0 0 0 1 0 0 0 0 0 1 0 1\n",
            " 1 0 1 0 0 0 0 1 0 0 0 1 1 0 0 0 0 0 1 0 1 1 1 1 1 0 0 0 1 0 0 1 0 0 0 1 1\n",
            " 1 0 0 1 1 1 1 1 1 0 0 0 0 1 0 0 0 0 0 1 0 0 0 1 0 0 0 0 0 1 1 0 0 0 0 0 1\n",
            " 0 1 0 0 0 0 0 0 1 1 1 0 1 0 1 0 1 0 1 1 1 0 0 0 0 0 0 1 0 0 0 1 0 0 1 0 0\n",
            " 0 1 1 1 0 0 1 1 0 0 0 0 1 0 0 1 1 1 0 0 1 0 0 1 1 1 1 1 1 0 1 0 0 1 1 1 1\n",
            " 1 0 1 1 1 1 0 1 0 0 1 1 0 1 0 0 1 0 1 1 0 0 1 0 0 0 1 0 0 0 1 0 1 1 0 0 0\n",
            " 1 0 1 0 1 0 0 0 1 0 0 1 0 1 1 0 0 0 0 0 0 0 1 1 1 0 0 0 1 1 0 0 1 0 1 1 0\n",
            " 0 0 1 0 0 0 0 1 0 0 1 0 0 0 1 0 0 0 0 0 0 0 0 0 1 0 0 0 0 0 0 1 0 0 0 1 1\n",
            " 0 1 1 0 1 0 1 0 0 1 0 0 0 1 1 1 0 0 1 0 0 0 0 0 1 0 0 0 1 1 0 0 0 0 0 1 0\n",
            " 0 1 0 0 1 0 0 0 1 0 1 1 0 0 1 0 1 0 0 0 0 1 1 0 1 0 0 1 0 0 1 0 0 0 0 0 0\n",
            " 0 0 1 0 0 0 0 0 0 0 1 0 1 0 0 0 0 1 1 0 0 0 0 0 1 0 1 1 1 0 0 0 0 0 1 1 0\n",
            " 1 0 1 0 1 1 1 0 0 1 1 0 0 0 1 0 1 0 1 0 1 0 0 1 0 0 1 0 1 1 0 0 1 1 0 0 0\n",
            " 0 0 1 0 0 0 0 0 1 0 1 0 0 0 1 0 0 0 0 1 1 1 0 1 0 0 0 1 0 0 1 1 1 1 0 0 0\n",
            " 1]\n"
          ]
        }
      ],
      "source": [
        "print(y_train)"
      ]
    },
    {
      "cell_type": "code",
      "execution_count": 83,
      "id": "7b039bc2",
      "metadata": {
        "colab": {
          "base_uri": "https://localhost:8080/"
        },
        "id": "7b039bc2",
        "outputId": "cd426a29-464f-44dc-aa07-42412adf4418"
      },
      "outputs": [
        {
          "output_type": "stream",
          "name": "stdout",
          "text": [
            "make          float64\n",
            "address       float64\n",
            "all           float64\n",
            "3d            float64\n",
            "our           float64\n",
            "over          float64\n",
            "remove        float64\n",
            "internet      float64\n",
            "order         float64\n",
            "mail          float64\n",
            "receive       float64\n",
            "will          float64\n",
            "people        float64\n",
            "report        float64\n",
            "addresses     float64\n",
            "free          float64\n",
            "business      float64\n",
            "email         float64\n",
            "you           float64\n",
            "credit        float64\n",
            "your          float64\n",
            "font          float64\n",
            "0             float64\n",
            "money         float64\n",
            "hp            float64\n",
            "hpl           float64\n",
            "george        float64\n",
            "650           float64\n",
            "lab           float64\n",
            "labs          float64\n",
            "telnet        float64\n",
            "857           float64\n",
            "data          float64\n",
            "415           float64\n",
            "85            float64\n",
            "technology    float64\n",
            "1999          float64\n",
            "parts         float64\n",
            "pm            float64\n",
            "direct        float64\n",
            "cs            float64\n",
            "meeting       float64\n",
            "original      float64\n",
            "project       float64\n",
            "re            float64\n",
            "edu           float64\n",
            "table         float64\n",
            "conference    float64\n",
            "semicol       float64\n",
            "paren         float64\n",
            "bracket       float64\n",
            "bang          float64\n",
            "dollar        float64\n",
            "pound         float64\n",
            "cap_avg       float64\n",
            "cap_long        int64\n",
            "cap_total       int64\n",
            "Class           int64\n",
            "dtype: object\n"
          ]
        }
      ],
      "source": [
        "print(df.dtypes)"
      ]
    },
    {
      "cell_type": "code",
      "execution_count": 84,
      "id": "f4a7655f",
      "metadata": {
        "colab": {
          "base_uri": "https://localhost:8080/",
          "height": 74
        },
        "id": "f4a7655f",
        "outputId": "7e68d91f-67a2-42f5-a367-7c80957edbe2"
      },
      "outputs": [
        {
          "output_type": "execute_result",
          "data": {
            "text/plain": [
              "DecisionTreeClassifier(criterion='entropy')"
            ],
            "text/html": [
              "<style>#sk-container-id-2 {color: black;background-color: white;}#sk-container-id-2 pre{padding: 0;}#sk-container-id-2 div.sk-toggleable {background-color: white;}#sk-container-id-2 label.sk-toggleable__label {cursor: pointer;display: block;width: 100%;margin-bottom: 0;padding: 0.3em;box-sizing: border-box;text-align: center;}#sk-container-id-2 label.sk-toggleable__label-arrow:before {content: \"▸\";float: left;margin-right: 0.25em;color: #696969;}#sk-container-id-2 label.sk-toggleable__label-arrow:hover:before {color: black;}#sk-container-id-2 div.sk-estimator:hover label.sk-toggleable__label-arrow:before {color: black;}#sk-container-id-2 div.sk-toggleable__content {max-height: 0;max-width: 0;overflow: hidden;text-align: left;background-color: #f0f8ff;}#sk-container-id-2 div.sk-toggleable__content pre {margin: 0.2em;color: black;border-radius: 0.25em;background-color: #f0f8ff;}#sk-container-id-2 input.sk-toggleable__control:checked~div.sk-toggleable__content {max-height: 200px;max-width: 100%;overflow: auto;}#sk-container-id-2 input.sk-toggleable__control:checked~label.sk-toggleable__label-arrow:before {content: \"▾\";}#sk-container-id-2 div.sk-estimator input.sk-toggleable__control:checked~label.sk-toggleable__label {background-color: #d4ebff;}#sk-container-id-2 div.sk-label input.sk-toggleable__control:checked~label.sk-toggleable__label {background-color: #d4ebff;}#sk-container-id-2 input.sk-hidden--visually {border: 0;clip: rect(1px 1px 1px 1px);clip: rect(1px, 1px, 1px, 1px);height: 1px;margin: -1px;overflow: hidden;padding: 0;position: absolute;width: 1px;}#sk-container-id-2 div.sk-estimator {font-family: monospace;background-color: #f0f8ff;border: 1px dotted black;border-radius: 0.25em;box-sizing: border-box;margin-bottom: 0.5em;}#sk-container-id-2 div.sk-estimator:hover {background-color: #d4ebff;}#sk-container-id-2 div.sk-parallel-item::after {content: \"\";width: 100%;border-bottom: 1px solid gray;flex-grow: 1;}#sk-container-id-2 div.sk-label:hover label.sk-toggleable__label {background-color: #d4ebff;}#sk-container-id-2 div.sk-serial::before {content: \"\";position: absolute;border-left: 1px solid gray;box-sizing: border-box;top: 0;bottom: 0;left: 50%;z-index: 0;}#sk-container-id-2 div.sk-serial {display: flex;flex-direction: column;align-items: center;background-color: white;padding-right: 0.2em;padding-left: 0.2em;position: relative;}#sk-container-id-2 div.sk-item {position: relative;z-index: 1;}#sk-container-id-2 div.sk-parallel {display: flex;align-items: stretch;justify-content: center;background-color: white;position: relative;}#sk-container-id-2 div.sk-item::before, #sk-container-id-2 div.sk-parallel-item::before {content: \"\";position: absolute;border-left: 1px solid gray;box-sizing: border-box;top: 0;bottom: 0;left: 50%;z-index: -1;}#sk-container-id-2 div.sk-parallel-item {display: flex;flex-direction: column;z-index: 1;position: relative;background-color: white;}#sk-container-id-2 div.sk-parallel-item:first-child::after {align-self: flex-end;width: 50%;}#sk-container-id-2 div.sk-parallel-item:last-child::after {align-self: flex-start;width: 50%;}#sk-container-id-2 div.sk-parallel-item:only-child::after {width: 0;}#sk-container-id-2 div.sk-dashed-wrapped {border: 1px dashed gray;margin: 0 0.4em 0.5em 0.4em;box-sizing: border-box;padding-bottom: 0.4em;background-color: white;}#sk-container-id-2 div.sk-label label {font-family: monospace;font-weight: bold;display: inline-block;line-height: 1.2em;}#sk-container-id-2 div.sk-label-container {text-align: center;}#sk-container-id-2 div.sk-container {/* jupyter's `normalize.less` sets `[hidden] { display: none; }` but bootstrap.min.css set `[hidden] { display: none !important; }` so we also need the `!important` here to be able to override the default hidden behavior on the sphinx rendered scikit-learn.org. See: https://github.com/scikit-learn/scikit-learn/issues/21755 */display: inline-block !important;position: relative;}#sk-container-id-2 div.sk-text-repr-fallback {display: none;}</style><div id=\"sk-container-id-2\" class=\"sk-top-container\"><div class=\"sk-text-repr-fallback\"><pre>DecisionTreeClassifier(criterion=&#x27;entropy&#x27;)</pre><b>In a Jupyter environment, please rerun this cell to show the HTML representation or trust the notebook. <br />On GitHub, the HTML representation is unable to render, please try loading this page with nbviewer.org.</b></div><div class=\"sk-container\" hidden><div class=\"sk-item\"><div class=\"sk-estimator sk-toggleable\"><input class=\"sk-toggleable__control sk-hidden--visually\" id=\"sk-estimator-id-2\" type=\"checkbox\" checked><label for=\"sk-estimator-id-2\" class=\"sk-toggleable__label sk-toggleable__label-arrow\">DecisionTreeClassifier</label><div class=\"sk-toggleable__content\"><pre>DecisionTreeClassifier(criterion=&#x27;entropy&#x27;)</pre></div></div></div></div></div>"
            ]
          },
          "metadata": {},
          "execution_count": 84
        }
      ],
      "source": [
        "#let's first visualize the tree on the data with just criterion='entropy.'\n",
        "x_train.columns = x_train.columns.astype(str)\n",
        "clf = DecisionTreeClassifier(criterion=\"entropy\")\n",
        "clf.fit(x_train, y_train)"
      ]
    },
    {
      "cell_type": "code",
      "execution_count": 85,
      "id": "a3651731",
      "metadata": {
        "colab": {
          "base_uri": "https://localhost:8080/"
        },
        "id": "a3651731",
        "outputId": "b2c0017d-589c-44c4-cc5e-0a07c3a7f7a9"
      },
      "outputs": [
        {
          "output_type": "stream",
          "name": "stdout",
          "text": [
            "1.2.2\n"
          ]
        }
      ],
      "source": [
        "import sklearn\n",
        "print(sklearn.__version__)"
      ]
    },
    {
      "cell_type": "code",
      "execution_count": 86,
      "id": "7c52ff9a",
      "metadata": {
        "colab": {
          "base_uri": "https://localhost:8080/"
        },
        "id": "7c52ff9a",
        "outputId": "dc418d03-8018-45b7-bb07-962f879e38d8"
      },
      "outputs": [
        {
          "output_type": "stream",
          "name": "stdout",
          "text": [
            "      make  address   all   3d   our  over  remove  internet  order  mail  \\\n",
            "2835  0.17     0.00  0.17  0.0  1.47  0.35    0.00      0.05   0.05  0.05   \n",
            "644   0.25     0.00  0.25  0.0  0.00  0.00    0.25      0.00   0.77  1.55   \n",
            "3898  0.31     0.00  0.63  0.0  0.47  0.47    0.15      0.79   0.15  0.63   \n",
            "3911  0.00     0.00  0.00  0.0  0.00  0.00    0.45      0.91   0.45  0.91   \n",
            "809   0.00     0.00  0.00  0.0  0.33  0.00    0.00      0.00   0.00  0.66   \n",
            "...    ...      ...   ...  ...   ...   ...     ...       ...    ...   ...   \n",
            "1676  0.00     0.00  0.00  0.0  0.00  0.00    0.00      0.00   0.00  0.00   \n",
            "1952  0.00     1.17  0.00  0.0  0.00  0.00    0.00      0.00   1.17  0.00   \n",
            "732   0.00     0.00  0.00  0.0  0.00  0.00    0.00      0.00   0.00  0.00   \n",
            "1013  0.00     0.00  0.00  0.0  0.00  0.00    0.00      0.00   0.00  0.00   \n",
            "2665  0.00     0.00  0.00  0.0  0.00  0.00    0.00      0.00   0.00  0.00   \n",
            "\n",
            "      ...  conference  semicol  paren  bracket   bang  dollar  pound  cap_avg  \\\n",
            "2835  ...        0.00    0.010  0.051    0.000  0.010   0.165   0.00    1.790   \n",
            "644   ...        0.00    0.000  0.404    0.000  0.161   0.161   0.04    9.633   \n",
            "3898  ...        0.00    0.000  0.076    0.000  1.300   0.127   0.00    5.241   \n",
            "3911  ...        0.00    0.000  0.254    0.000  0.063   0.127   0.00    4.735   \n",
            "809   ...        0.00    0.349  0.524    0.116  0.000   0.000   0.00    3.627   \n",
            "...   ...         ...      ...    ...      ...    ...     ...    ...      ...   \n",
            "1676  ...        0.00    0.000  0.000    0.000  0.000   0.000   0.00    1.000   \n",
            "1952  ...        1.17    0.376  0.000    0.000  0.000   0.000   0.00    2.925   \n",
            "732   ...        0.00    0.000  0.000    0.000  0.000   0.000   0.00    2.603   \n",
            "1013  ...        0.00    0.000  0.000    0.000  0.000   0.000   0.00    1.181   \n",
            "2665  ...        0.00    0.000  0.000    0.000  0.000   0.000   0.00    1.500   \n",
            "\n",
            "      cap_long  cap_total  \n",
            "2835        12        453  \n",
            "644        110        578  \n",
            "3898        97        650  \n",
            "3911        46        161  \n",
            "809         19        341  \n",
            "...        ...        ...  \n",
            "1676         1          4  \n",
            "1952        16        117  \n",
            "732         16        164  \n",
            "1013         3         13  \n",
            "2665         4         18  \n",
            "\n",
            "[3601 rows x 57 columns]\n"
          ]
        }
      ],
      "source": [
        "print(x_test)"
      ]
    },
    {
      "cell_type": "code",
      "execution_count": 87,
      "id": "3f1265af",
      "metadata": {
        "id": "3f1265af"
      },
      "outputs": [],
      "source": [
        "# predict is a function used to predict the target varibles fr the x_train dataset.\n",
        "x_test.columns = x_test.columns.astype(str)\n",
        "y_hat = clf.predict(x_test)"
      ]
    },
    {
      "cell_type": "code",
      "execution_count": 88,
      "id": "73b2fa17",
      "metadata": {
        "id": "73b2fa17"
      },
      "outputs": [],
      "source": [
        "# Used to calculate accuracy score.\n",
        "from sklearn.metrics import accuracy_score"
      ]
    },
    {
      "cell_type": "code",
      "execution_count": 89,
      "id": "3232e14d",
      "metadata": {
        "colab": {
          "base_uri": "https://localhost:8080/"
        },
        "id": "3232e14d",
        "outputId": "a14dda48-3d0c-44a3-ea77-681316a26809"
      },
      "outputs": [
        {
          "output_type": "execute_result",
          "data": {
            "text/plain": [
              "array([[2033,  127],\n",
              "       [ 274, 1167]])"
            ]
          },
          "metadata": {},
          "execution_count": 89
        }
      ],
      "source": [
        "from sklearn.metrics import classification_report, confusion_matrix, accuracy_score\n",
        "# Confusion Matrix\n",
        "conf_mat = confusion_matrix(y_test,y_hat)\n",
        "conf_mat"
      ]
    },
    {
      "cell_type": "code",
      "execution_count": 90,
      "id": "d4bc7dc0",
      "metadata": {
        "colab": {
          "base_uri": "https://localhost:8080/"
        },
        "id": "d4bc7dc0",
        "outputId": "b50f6aee-9ca8-4153-ba28-6e7c5f27966d"
      },
      "outputs": [
        {
          "output_type": "execute_result",
          "data": {
            "text/plain": [
              "0.8886420438767009"
            ]
          },
          "metadata": {},
          "execution_count": 90
        }
      ],
      "source": [
        "accuracy_score(y_test,y_hat)"
      ]
    },
    {
      "cell_type": "code",
      "execution_count": 91,
      "id": "63ea7bca",
      "metadata": {
        "id": "63ea7bca"
      },
      "outputs": [],
      "source": [
        "# Depends on the value we took.\n",
        "# accuracy_score(y_hat,y_test)\n",
        "true_positive = conf_mat[1][1]\n",
        "false_negative = conf_mat[1][0]\n",
        "false_positive= conf_mat[0][1]\n",
        "true_negative = conf_mat[0][0]"
      ]
    },
    {
      "cell_type": "code",
      "execution_count": 92,
      "id": "9ededc05",
      "metadata": {
        "colab": {
          "base_uri": "https://localhost:8080/"
        },
        "id": "9ededc05",
        "outputId": "8b0390ff-5176-417e-a333-7192100c3493"
      },
      "outputs": [
        {
          "output_type": "execute_result",
          "data": {
            "text/plain": [
              "0.8886420438767009"
            ]
          },
          "metadata": {},
          "execution_count": 92
        }
      ],
      "source": [
        "# Classification Accuracy.\n",
        "Accuracy = (true_positive + true_negative) / (true_positive +false_positive + false_negative + true_negative)\n",
        "Accuracy"
      ]
    },
    {
      "cell_type": "code",
      "execution_count": 93,
      "id": "0dba99ff",
      "metadata": {
        "colab": {
          "base_uri": "https://localhost:8080/"
        },
        "id": "0dba99ff",
        "outputId": "13db622e-52a9-449f-8411-5f5efea704ca"
      },
      "outputs": [
        {
          "output_type": "execute_result",
          "data": {
            "text/plain": [
              "0.8098542678695351"
            ]
          },
          "metadata": {},
          "execution_count": 93
        }
      ],
      "source": [
        "# Per class Accuracy.\n",
        "Per_class_acc_true_pos = true_positive / (true_positive+false_negative)\n",
        "Per_class_acc_true_pos"
      ]
    },
    {
      "cell_type": "code",
      "execution_count": 94,
      "id": "dff309d1",
      "metadata": {
        "colab": {
          "base_uri": "https://localhost:8080/"
        },
        "id": "dff309d1",
        "outputId": "3fd2038d-78a8-45f8-f650-3f9107ef7a04"
      },
      "outputs": [
        {
          "output_type": "execute_result",
          "data": {
            "text/plain": [
              "0.9412037037037037"
            ]
          },
          "metadata": {},
          "execution_count": 94
        }
      ],
      "source": [
        "# Per class Accuracy for negative value.\n",
        "Per_class_acc_true_neg = true_negative/(false_positive+true_negative)\n",
        "Per_class_acc_true_neg\n"
      ]
    },
    {
      "cell_type": "code",
      "execution_count": 95,
      "id": "36618606",
      "metadata": {
        "colab": {
          "base_uri": "https://localhost:8080/"
        },
        "id": "36618606",
        "outputId": "ac836d56-47f9-4441-c0f3-165798841c8f"
      },
      "outputs": [
        {
          "output_type": "execute_result",
          "data": {
            "text/plain": [
              "0.901854714064915"
            ]
          },
          "metadata": {},
          "execution_count": 95
        }
      ],
      "source": [
        "# Precison\n",
        "Precision = true_positive/(true_positive+false_positive)\n",
        "Precision"
      ]
    },
    {
      "cell_type": "code",
      "execution_count": 96,
      "id": "a5251e90",
      "metadata": {
        "colab": {
          "base_uri": "https://localhost:8080/"
        },
        "id": "a5251e90",
        "outputId": "95c5d10c-002b-4524-813a-8e01a9a87ba4"
      },
      "outputs": [
        {
          "output_type": "execute_result",
          "data": {
            "text/plain": [
              "0.8098542678695351"
            ]
          },
          "metadata": {},
          "execution_count": 96
        }
      ],
      "source": [
        "# Recall\n",
        "Recall = true_positive/(true_positive+false_negative)\n",
        "Recall"
      ]
    },
    {
      "cell_type": "code",
      "execution_count": 97,
      "id": "fec914ed",
      "metadata": {
        "colab": {
          "base_uri": "https://localhost:8080/"
        },
        "id": "fec914ed",
        "outputId": "a086d1e7-5f75-43a5-b2d3-42886ba646a8"
      },
      "outputs": [
        {
          "output_type": "execute_result",
          "data": {
            "text/plain": [
              "0.853382084095064"
            ]
          },
          "metadata": {},
          "execution_count": 97
        }
      ],
      "source": [
        "# F1 Score\n",
        "F1_Score = 2*(Recall * Precision) / (Recall + Precision)\n",
        "F1_Score"
      ]
    },
    {
      "cell_type": "code",
      "execution_count": 98,
      "id": "f8dd1ca2",
      "metadata": {
        "colab": {
          "base_uri": "https://localhost:8080/"
        },
        "id": "f8dd1ca2",
        "outputId": "efe11e09-52cd-43aa-d77f-664eae62d2ca"
      },
      "outputs": [
        {
          "output_type": "stream",
          "name": "stdout",
          "text": [
            "[0.        0.0587963 1.       ]\n",
            "[0.         0.80985427 1.        ]\n"
          ]
        },
        {
          "output_type": "execute_result",
          "data": {
            "text/plain": [
              "array([2, 1, 0])"
            ]
          },
          "metadata": {},
          "execution_count": 98
        }
      ],
      "source": [
        "# Area Under Curve\n",
        "from sklearn.metrics import roc_auc_score,roc_curve\n",
        "auc = roc_auc_score(y_test, y_hat)\n",
        "auc\n",
        "fpr, tpr, thresholds = roc_curve(y_test, y_hat)\n",
        "print(fpr)\n",
        "print(tpr)\n",
        "thresholds"
      ]
    },
    {
      "cell_type": "code",
      "source": [
        "import matplotlib.pyplot as plt\n"
      ],
      "metadata": {
        "id": "c4KMukZBZTdm"
      },
      "id": "c4KMukZBZTdm",
      "execution_count": 99,
      "outputs": []
    },
    {
      "cell_type": "code",
      "execution_count": 100,
      "id": "99f31ba8",
      "metadata": {
        "colab": {
          "base_uri": "https://localhost:8080/",
          "height": 472
        },
        "id": "99f31ba8",
        "outputId": "f61db6e2-532e-40ae-8b3c-e20764f6d674"
      },
      "outputs": [
        {
          "output_type": "display_data",
          "data": {
            "text/plain": [
              "<Figure size 640x480 with 1 Axes>"
            ],
            "image/png": "[encoded data removed]"
          },
          "metadata": {}
        }
      ],
      "source": [
        "plt.plot(fpr, tpr, color='orange', label='ROC')\n",
        "plt.plot([0, 1], [0, 1], color='darkblue', linestyle='--',label='ROC curve (area = %0.2f)' % auc)\n",
        "plt.xlabel('False Positive Rate')\n",
        "plt.ylabel('True Positive Rate')\n",
        "plt.title('Receiver Operating Characteristic (ROC) Curve')\n",
        "plt.legend()\n",
        "plt.show()"
      ]
    },
    {
      "cell_type": "code",
      "execution_count": 101,
      "id": "79b36551",
      "metadata": {
        "colab": {
          "base_uri": "https://localhost:8080/"
        },
        "id": "79b36551",
        "outputId": "3d6ea44e-9c63-4ef6-8d75-262ca294aa30"
      },
      "outputs": [
        {
          "output_type": "stream",
          "name": "stdout",
          "text": [
            "Requirement already satisfied: pydotplus in /usr/local/lib/python3.10/dist-packages (2.0.2)\n",
            "Requirement already satisfied: pyparsing>=2.0.1 in /usr/local/lib/python3.10/dist-packages (from pydotplus) (3.1.1)\n"
          ]
        }
      ],
      "source": [
        "pip install pydotplus"
      ]
    },
    {
      "cell_type": "code",
      "execution_count": 102,
      "id": "b14d8066",
      "metadata": {
        "id": "b14d8066"
      },
      "outputs": [],
      "source": [
        "from IPython.display import Image\n",
        "from sklearn.tree import export_graphviz\n",
        "import pydotplus\n",
        "import matplotlib.pyplot as plt"
      ]
    },
    {
      "cell_type": "code",
      "execution_count": 103,
      "id": "0fa17542",
      "metadata": {
        "colab": {
          "base_uri": "https://localhost:8080/",
          "height": 1000
        },
        "id": "0fa17542",
        "outputId": "ec31f829-63e7-4883-914d-51ae5a4c32c6"
      },
      "outputs": [
        {
          "output_type": "execute_result",
          "data": {
            "text/plain": [
              "[Text(0.7020474137931034, 0.9666666666666667, 'x[52] <= 0.056\\nentropy = 0.952\\nsamples = 1000\\nvalue = [628, 372]'),\n",
              " Text(0.53125, 0.9, 'x[6] <= 0.03\\nentropy = 0.734\\nsamples = 742\\nvalue = [589, 153]'),\n",
              " Text(0.3900862068965517, 0.8333333333333334, 'x[51] <= 0.511\\nentropy = 0.583\\nsamples = 674\\nvalue = [580, 94]'),\n",
              " Text(0.24568965517241378, 0.7666666666666667, 'x[24] <= 0.04\\nentropy = 0.377\\nsamples = 603\\nvalue = [559, 44]'),\n",
              " Text(0.22844827586206898, 0.7, 'x[55] <= 9.5\\nentropy = 0.5\\nsamples = 400\\nvalue = [356, 44]'),\n",
              " Text(0.11206896551724138, 0.6333333333333333, 'x[4] <= 0.925\\nentropy = 0.186\\nsamples = 247\\nvalue = [240, 7]'),\n",
              " Text(0.06896551724137931, 0.5666666666666667, 'x[54] <= 1.268\\nentropy = 0.074\\nsamples = 224\\nvalue = [222, 2]'),\n",
              " Text(0.05172413793103448, 0.5, 'x[54] <= 1.258\\nentropy = 0.134\\nsamples = 107\\nvalue = [105, 2]'),\n",
              " Text(0.034482758620689655, 0.43333333333333335, 'x[18] <= 4.65\\nentropy = 0.077\\nsamples = 106\\nvalue = [105, 1]'),\n",
              " Text(0.017241379310344827, 0.36666666666666664, 'entropy = 0.0\\nsamples = 92\\nvalue = [92, 0]'),\n",
              " Text(0.05172413793103448, 0.36666666666666664, 'x[18] <= 4.78\\nentropy = 0.371\\nsamples = 14\\nvalue = [13, 1]'),\n",
              " Text(0.034482758620689655, 0.3, 'entropy = 0.0\\nsamples = 1\\nvalue = [0, 1]'),\n",
              " Text(0.06896551724137931, 0.3, 'entropy = 0.0\\nsamples = 13\\nvalue = [13, 0]'),\n",
              " Text(0.06896551724137931, 0.43333333333333335, 'entropy = 0.0\\nsamples = 1\\nvalue = [0, 1]'),\n",
              " Text(0.08620689655172414, 0.5, 'entropy = 0.0\\nsamples = 117\\nvalue = [117, 0]'),\n",
              " Text(0.15517241379310345, 0.5666666666666667, 'x[18] <= 2.72\\nentropy = 0.755\\nsamples = 23\\nvalue = [18, 5]'),\n",
              " Text(0.1206896551724138, 0.5, 'x[17] <= 0.235\\nentropy = 0.31\\nsamples = 18\\nvalue = [17, 1]'),\n",
              " Text(0.10344827586206896, 0.43333333333333335, 'entropy = 0.0\\nsamples = 17\\nvalue = [17, 0]'),\n",
              " Text(0.13793103448275862, 0.43333333333333335, 'entropy = 0.0\\nsamples = 1\\nvalue = [0, 1]'),\n",
              " Text(0.1896551724137931, 0.5, 'x[44] <= 0.9\\nentropy = 0.722\\nsamples = 5\\nvalue = [1, 4]'),\n",
              " Text(0.1724137931034483, 0.43333333333333335, 'entropy = 0.0\\nsamples = 4\\nvalue = [0, 4]'),\n",
              " Text(0.20689655172413793, 0.43333333333333335, 'entropy = 0.0\\nsamples = 1\\nvalue = [1, 0]'),\n",
              " Text(0.3448275862068966, 0.6333333333333333, 'x[4] <= 0.055\\nentropy = 0.798\\nsamples = 153\\nvalue = [116, 37]'),\n",
              " Text(0.27586206896551724, 0.5666666666666667, 'x[55] <= 39.0\\nentropy = 0.56\\nsamples = 107\\nvalue = [93, 14]'),\n",
              " Text(0.25862068965517243, 0.5, 'x[23] <= 0.585\\nentropy = 0.711\\nsamples = 72\\nvalue = [58, 14]'),\n",
              " Text(0.2413793103448276, 0.43333333333333335, 'x[48] <= 0.086\\nentropy = 0.633\\nsamples = 69\\nvalue = [58, 11]'),\n",
              " Text(0.20689655172413793, 0.36666666666666664, 'x[55] <= 33.5\\nentropy = 0.503\\nsamples = 63\\nvalue = [56, 7]'),\n",
              " Text(0.1896551724137931, 0.3, 'x[56] <= 48.5\\nentropy = 0.409\\nsamples = 61\\nvalue = [56, 5]'),\n",
              " Text(0.1724137931034483, 0.23333333333333334, 'x[0] <= 0.265\\nentropy = 0.755\\nsamples = 23\\nvalue = [18, 5]'),\n",
              " Text(0.15517241379310345, 0.16666666666666666, 'x[18] <= 3.735\\nentropy = 0.592\\nsamples = 21\\nvalue = [18, 3]'),\n",
              " Text(0.13793103448275862, 0.1, 'entropy = 0.0\\nsamples = 17\\nvalue = [17, 0]'),\n",
              " Text(0.1724137931034483, 0.1, 'x[1] <= 0.69\\nentropy = 0.811\\nsamples = 4\\nvalue = [1, 3]'),\n",
              " Text(0.15517241379310345, 0.03333333333333333, 'entropy = 0.0\\nsamples = 3\\nvalue = [0, 3]'),\n",
              " Text(0.1896551724137931, 0.03333333333333333, 'entropy = 0.0\\nsamples = 1\\nvalue = [1, 0]'),\n",
              " Text(0.1896551724137931, 0.16666666666666666, 'entropy = 0.0\\nsamples = 2\\nvalue = [0, 2]'),\n",
              " Text(0.20689655172413793, 0.23333333333333334, 'entropy = 0.0\\nsamples = 38\\nvalue = [38, 0]'),\n",
              " Text(0.22413793103448276, 0.3, 'entropy = 0.0\\nsamples = 2\\nvalue = [0, 2]'),\n",
              " Text(0.27586206896551724, 0.36666666666666664, 'x[55] <= 15.5\\nentropy = 0.918\\nsamples = 6\\nvalue = [2, 4]'),\n",
              " Text(0.25862068965517243, 0.3, 'entropy = 0.0\\nsamples = 2\\nvalue = [2, 0]'),\n",
              " Text(0.29310344827586204, 0.3, 'entropy = 0.0\\nsamples = 4\\nvalue = [0, 4]'),\n",
              " Text(0.27586206896551724, 0.43333333333333335, 'entropy = 0.0\\nsamples = 3\\nvalue = [0, 3]'),\n",
              " Text(0.29310344827586204, 0.5, 'entropy = 0.0\\nsamples = 35\\nvalue = [35, 0]'),\n",
              " Text(0.41379310344827586, 0.5666666666666667, 'x[54] <= 3.065\\nentropy = 1.0\\nsamples = 46\\nvalue = [23, 23]'),\n",
              " Text(0.3793103448275862, 0.5, 'x[29] <= 0.055\\nentropy = 0.937\\nsamples = 34\\nvalue = [22, 12]'),\n",
              " Text(0.3620689655172414, 0.43333333333333335, 'x[49] <= 0.084\\nentropy = 0.837\\nsamples = 30\\nvalue = [22, 8]'),\n",
              " Text(0.3448275862068966, 0.36666666666666664, 'x[20] <= 1.875\\nentropy = 0.997\\nsamples = 15\\nvalue = [7, 8]'),\n",
              " Text(0.3275862068965517, 0.3, 'x[16] <= 0.075\\nentropy = 0.946\\nsamples = 11\\nvalue = [7, 4]'),\n",
              " Text(0.3103448275862069, 0.23333333333333334, 'x[2] <= 1.98\\nentropy = 0.544\\nsamples = 8\\nvalue = [7, 1]'),\n",
              " Text(0.29310344827586204, 0.16666666666666666, 'entropy = 0.0\\nsamples = 7\\nvalue = [7, 0]'),\n",
              " Text(0.3275862068965517, 0.16666666666666666, 'entropy = 0.0\\nsamples = 1\\nvalue = [0, 1]'),\n",
              " Text(0.3448275862068966, 0.23333333333333334, 'entropy = 0.0\\nsamples = 3\\nvalue = [0, 3]'),\n",
              " Text(0.3620689655172414, 0.3, 'entropy = 0.0\\nsamples = 4\\nvalue = [0, 4]'),\n",
              " Text(0.3793103448275862, 0.36666666666666664, 'entropy = 0.0\\nsamples = 15\\nvalue = [15, 0]'),\n",
              " Text(0.39655172413793105, 0.43333333333333335, 'entropy = 0.0\\nsamples = 4\\nvalue = [0, 4]'),\n",
              " Text(0.4482758620689655, 0.5, 'x[41] <= 0.355\\nentropy = 0.414\\nsamples = 12\\nvalue = [1, 11]'),\n",
              " Text(0.43103448275862066, 0.43333333333333335, 'entropy = 0.0\\nsamples = 11\\nvalue = [0, 11]'),\n",
              " Text(0.46551724137931033, 0.43333333333333335, 'entropy = 0.0\\nsamples = 1\\nvalue = [1, 0]'),\n",
              " Text(0.2629310344827586, 0.7, 'entropy = 0.0\\nsamples = 203\\nvalue = [203, 0]'),\n",
              " Text(0.5344827586206896, 0.7666666666666667, 'x[56] <= 27.0\\nentropy = 0.876\\nsamples = 71\\nvalue = [21, 50]'),\n",
              " Text(0.46551724137931033, 0.7, 'x[18] <= 4.08\\nentropy = 0.503\\nsamples = 18\\nvalue = [16, 2]'),\n",
              " Text(0.4482758620689655, 0.6333333333333333, 'entropy = 0.0\\nsamples = 13\\nvalue = [13, 0]'),\n",
              " Text(0.4827586206896552, 0.6333333333333333, 'x[55] <= 1.5\\nentropy = 0.971\\nsamples = 5\\nvalue = [3, 2]'),\n",
              " Text(0.46551724137931033, 0.5666666666666667, 'entropy = 0.0\\nsamples = 2\\nvalue = [2, 0]'),\n",
              " Text(0.5, 0.5666666666666667, 'x[55] <= 5.5\\nentropy = 0.918\\nsamples = 3\\nvalue = [1, 2]'),\n",
              " Text(0.4827586206896552, 0.5, 'entropy = 0.0\\nsamples = 2\\nvalue = [0, 2]'),\n",
              " Text(0.5172413793103449, 0.5, 'entropy = 0.0\\nsamples = 1\\nvalue = [1, 0]'),\n",
              " Text(0.603448275862069, 0.7, 'x[51] <= 4.415\\nentropy = 0.451\\nsamples = 53\\nvalue = [5, 48]'),\n",
              " Text(0.5862068965517241, 0.6333333333333333, 'x[0] <= 0.66\\nentropy = 0.323\\nsamples = 51\\nvalue = [3, 48]'),\n",
              " Text(0.5689655172413793, 0.5666666666666667, 'x[15] <= 0.575\\nentropy = 0.242\\nsamples = 50\\nvalue = [2, 48]'),\n",
              " Text(0.5517241379310345, 0.5, 'entropy = 0.0\\nsamples = 37\\nvalue = [0, 37]'),\n",
              " Text(0.5862068965517241, 0.5, 'x[15] <= 1.55\\nentropy = 0.619\\nsamples = 13\\nvalue = [2, 11]'),\n",
              " Text(0.5689655172413793, 0.43333333333333335, 'x[44] <= 0.08\\nentropy = 0.971\\nsamples = 5\\nvalue = [2, 3]'),\n",
              " Text(0.5517241379310345, 0.36666666666666664, 'x[18] <= 3.28\\nentropy = 0.918\\nsamples = 3\\nvalue = [2, 1]'),\n",
              " Text(0.5344827586206896, 0.3, 'entropy = 0.0\\nsamples = 2\\nvalue = [2, 0]'),\n",
              " Text(0.5689655172413793, 0.3, 'entropy = 0.0\\nsamples = 1\\nvalue = [0, 1]'),\n",
              " Text(0.5862068965517241, 0.36666666666666664, 'entropy = 0.0\\nsamples = 2\\nvalue = [0, 2]'),\n",
              " Text(0.603448275862069, 0.43333333333333335, 'entropy = 0.0\\nsamples = 8\\nvalue = [0, 8]'),\n",
              " Text(0.603448275862069, 0.5666666666666667, 'entropy = 0.0\\nsamples = 1\\nvalue = [1, 0]'),\n",
              " Text(0.6206896551724138, 0.6333333333333333, 'entropy = 0.0\\nsamples = 2\\nvalue = [2, 0]'),\n",
              " Text(0.6724137931034483, 0.8333333333333334, 'x[26] <= 0.14\\nentropy = 0.564\\nsamples = 68\\nvalue = [9, 59]'),\n",
              " Text(0.6551724137931034, 0.7666666666666667, 'x[52] <= 0.021\\nentropy = 0.28\\nsamples = 62\\nvalue = [3, 59]'),\n",
              " Text(0.6379310344827587, 0.7, 'entropy = 0.0\\nsamples = 52\\nvalue = [0, 52]'),\n",
              " Text(0.6724137931034483, 0.7, 'x[51] <= 0.05\\nentropy = 0.881\\nsamples = 10\\nvalue = [3, 7]'),\n",
              " Text(0.6551724137931034, 0.6333333333333333, 'entropy = 0.0\\nsamples = 2\\nvalue = [2, 0]'),\n",
              " Text(0.6896551724137931, 0.6333333333333333, 'x[19] <= 0.93\\nentropy = 0.544\\nsamples = 8\\nvalue = [1, 7]'),\n",
              " Text(0.6724137931034483, 0.5666666666666667, 'entropy = 0.0\\nsamples = 7\\nvalue = [0, 7]'),\n",
              " Text(0.7068965517241379, 0.5666666666666667, 'entropy = 0.0\\nsamples = 1\\nvalue = [1, 0]'),\n",
              " Text(0.6896551724137931, 0.7666666666666667, 'entropy = 0.0\\nsamples = 6\\nvalue = [6, 0]'),\n",
              " Text(0.8728448275862069, 0.9, 'x[24] <= 0.16\\nentropy = 0.613\\nsamples = 258\\nvalue = [39, 219]'),\n",
              " Text(0.7974137931034483, 0.8333333333333334, 'x[55] <= 7.5\\nentropy = 0.39\\nsamples = 235\\nvalue = [18, 217]'),\n",
              " Text(0.7413793103448276, 0.7666666666666667, 'x[6] <= 0.37\\nentropy = 0.684\\nsamples = 11\\nvalue = [9, 2]'),\n",
              " Text(0.7241379310344828, 0.7, 'entropy = 0.0\\nsamples = 9\\nvalue = [9, 0]'),\n",
              " Text(0.7586206896551724, 0.7, 'entropy = 0.0\\nsamples = 2\\nvalue = [0, 2]'),\n",
              " Text(0.853448275862069, 0.7666666666666667, 'x[20] <= 0.655\\nentropy = 0.243\\nsamples = 224\\nvalue = [9, 215]'),\n",
              " Text(0.7931034482758621, 0.7, 'x[51] <= 0.109\\nentropy = 0.659\\nsamples = 41\\nvalue = [7, 34]'),\n",
              " Text(0.7586206896551724, 0.6333333333333333, 'x[56] <= 259.0\\nentropy = 0.996\\nsamples = 13\\nvalue = [6, 7]'),\n",
              " Text(0.7413793103448276, 0.5666666666666667, 'x[48] <= 0.038\\nentropy = 0.592\\nsamples = 7\\nvalue = [6, 1]'),\n",
              " Text(0.7241379310344828, 0.5, 'entropy = 0.0\\nsamples = 6\\nvalue = [6, 0]'),\n",
              " Text(0.7586206896551724, 0.5, 'entropy = 0.0\\nsamples = 1\\nvalue = [0, 1]'),\n",
              " Text(0.7758620689655172, 0.5666666666666667, 'entropy = 0.0\\nsamples = 6\\nvalue = [0, 6]'),\n",
              " Text(0.8275862068965517, 0.6333333333333333, 'x[10] <= 0.345\\nentropy = 0.222\\nsamples = 28\\nvalue = [1, 27]'),\n",
              " Text(0.8103448275862069, 0.5666666666666667, 'entropy = 0.0\\nsamples = 27\\nvalue = [0, 27]'),\n",
              " Text(0.8448275862068966, 0.5666666666666667, 'entropy = 0.0\\nsamples = 1\\nvalue = [1, 0]'),\n",
              " Text(0.9137931034482759, 0.7, 'x[26] <= 0.21\\nentropy = 0.087\\nsamples = 183\\nvalue = [2, 181]'),\n",
              " Text(0.896551724137931, 0.6333333333333333, 'x[36] <= 0.57\\nentropy = 0.049\\nsamples = 182\\nvalue = [1, 181]'),\n",
              " Text(0.8793103448275862, 0.5666666666666667, 'entropy = 0.0\\nsamples = 177\\nvalue = [0, 177]'),\n",
              " Text(0.9137931034482759, 0.5666666666666667, 'x[36] <= 0.835\\nentropy = 0.722\\nsamples = 5\\nvalue = [1, 4]'),\n",
              " Text(0.896551724137931, 0.5, 'entropy = 0.0\\nsamples = 1\\nvalue = [1, 0]'),\n",
              " Text(0.9310344827586207, 0.5, 'entropy = 0.0\\nsamples = 4\\nvalue = [0, 4]'),\n",
              " Text(0.9310344827586207, 0.6333333333333333, 'entropy = 0.0\\nsamples = 1\\nvalue = [1, 0]'),\n",
              " Text(0.9482758620689655, 0.8333333333333334, 'x[9] <= 0.5\\nentropy = 0.426\\nsamples = 23\\nvalue = [21, 2]'),\n",
              " Text(0.9310344827586207, 0.7666666666666667, 'entropy = 0.0\\nsamples = 19\\nvalue = [19, 0]'),\n",
              " Text(0.9655172413793104, 0.7666666666666667, 'x[0] <= 0.125\\nentropy = 1.0\\nsamples = 4\\nvalue = [2, 2]'),\n",
              " Text(0.9482758620689655, 0.7, 'entropy = 0.0\\nsamples = 2\\nvalue = [2, 0]'),\n",
              " Text(0.9827586206896551, 0.7, 'entropy = 0.0\\nsamples = 2\\nvalue = [0, 2]')]"
            ]
          },
          "metadata": {},
          "execution_count": 103
        },
        {
          "output_type": "display_data",
          "data": {
            "text/plain": [
              "<Figure size 400x400 with 1 Axes>"
            ],
            "image/png": "[encoded data removed]"
          },
          "metadata": {}
        }
      ],
      "source": [
        "# To visualize the Decision tree.\n",
        "from sklearn import tree\n",
        "plt.figure(figsize=(4,4))\n",
        "tree.plot_tree(clf,filled=True)"
      ]
    },
    {
      "cell_type": "code",
      "execution_count": 104,
      "id": "e05845a2",
      "metadata": {
        "colab": {
          "base_uri": "https://localhost:8080/",
          "height": 1000
        },
        "id": "e05845a2",
        "outputId": "8f470494-5662-4ee1-f5b1-389ff7a2616d"
      },
      "outputs": [
        {
          "output_type": "execute_result",
          "data": {
            "text/plain": [
              "[Text(0.7020474137931034, 0.9666666666666667, 'x[52] <= 0.056\\nentropy = 0.952\\nsamples = 1000\\nvalue = [628, 372]'),\n",
              " Text(0.53125, 0.9, 'x[6] <= 0.03\\nentropy = 0.734\\nsamples = 742\\nvalue = [589, 153]'),\n",
              " Text(0.3900862068965517, 0.8333333333333334, 'x[51] <= 0.511\\nentropy = 0.583\\nsamples = 674\\nvalue = [580, 94]'),\n",
              " Text(0.24568965517241378, 0.7666666666666667, 'x[24] <= 0.04\\nentropy = 0.377\\nsamples = 603\\nvalue = [559, 44]'),\n",
              " Text(0.22844827586206898, 0.7, 'x[55] <= 9.5\\nentropy = 0.5\\nsamples = 400\\nvalue = [356, 44]'),\n",
              " Text(0.11206896551724138, 0.6333333333333333, 'x[4] <= 0.925\\nentropy = 0.186\\nsamples = 247\\nvalue = [240, 7]'),\n",
              " Text(0.06896551724137931, 0.5666666666666667, 'x[54] <= 1.268\\nentropy = 0.074\\nsamples = 224\\nvalue = [222, 2]'),\n",
              " Text(0.05172413793103448, 0.5, 'x[54] <= 1.258\\nentropy = 0.134\\nsamples = 107\\nvalue = [105, 2]'),\n",
              " Text(0.034482758620689655, 0.43333333333333335, 'x[18] <= 4.65\\nentropy = 0.077\\nsamples = 106\\nvalue = [105, 1]'),\n",
              " Text(0.017241379310344827, 0.36666666666666664, 'entropy = 0.0\\nsamples = 92\\nvalue = [92, 0]'),\n",
              " Text(0.05172413793103448, 0.36666666666666664, 'x[18] <= 4.78\\nentropy = 0.371\\nsamples = 14\\nvalue = [13, 1]'),\n",
              " Text(0.034482758620689655, 0.3, 'entropy = 0.0\\nsamples = 1\\nvalue = [0, 1]'),\n",
              " Text(0.06896551724137931, 0.3, 'entropy = 0.0\\nsamples = 13\\nvalue = [13, 0]'),\n",
              " Text(0.06896551724137931, 0.43333333333333335, 'entropy = 0.0\\nsamples = 1\\nvalue = [0, 1]'),\n",
              " Text(0.08620689655172414, 0.5, 'entropy = 0.0\\nsamples = 117\\nvalue = [117, 0]'),\n",
              " Text(0.15517241379310345, 0.5666666666666667, 'x[18] <= 2.72\\nentropy = 0.755\\nsamples = 23\\nvalue = [18, 5]'),\n",
              " Text(0.1206896551724138, 0.5, 'x[17] <= 0.235\\nentropy = 0.31\\nsamples = 18\\nvalue = [17, 1]'),\n",
              " Text(0.10344827586206896, 0.43333333333333335, 'entropy = 0.0\\nsamples = 17\\nvalue = [17, 0]'),\n",
              " Text(0.13793103448275862, 0.43333333333333335, 'entropy = 0.0\\nsamples = 1\\nvalue = [0, 1]'),\n",
              " Text(0.1896551724137931, 0.5, 'x[44] <= 0.9\\nentropy = 0.722\\nsamples = 5\\nvalue = [1, 4]'),\n",
              " Text(0.1724137931034483, 0.43333333333333335, 'entropy = 0.0\\nsamples = 4\\nvalue = [0, 4]'),\n",
              " Text(0.20689655172413793, 0.43333333333333335, 'entropy = 0.0\\nsamples = 1\\nvalue = [1, 0]'),\n",
              " Text(0.3448275862068966, 0.6333333333333333, 'x[4] <= 0.055\\nentropy = 0.798\\nsamples = 153\\nvalue = [116, 37]'),\n",
              " Text(0.27586206896551724, 0.5666666666666667, 'x[55] <= 39.0\\nentropy = 0.56\\nsamples = 107\\nvalue = [93, 14]'),\n",
              " Text(0.25862068965517243, 0.5, 'x[23] <= 0.585\\nentropy = 0.711\\nsamples = 72\\nvalue = [58, 14]'),\n",
              " Text(0.2413793103448276, 0.43333333333333335, 'x[48] <= 0.086\\nentropy = 0.633\\nsamples = 69\\nvalue = [58, 11]'),\n",
              " Text(0.20689655172413793, 0.36666666666666664, 'x[55] <= 33.5\\nentropy = 0.503\\nsamples = 63\\nvalue = [56, 7]'),\n",
              " Text(0.1896551724137931, 0.3, 'x[56] <= 48.5\\nentropy = 0.409\\nsamples = 61\\nvalue = [56, 5]'),\n",
              " Text(0.1724137931034483, 0.23333333333333334, 'x[0] <= 0.265\\nentropy = 0.755\\nsamples = 23\\nvalue = [18, 5]'),\n",
              " Text(0.15517241379310345, 0.16666666666666666, 'x[18] <= 3.735\\nentropy = 0.592\\nsamples = 21\\nvalue = [18, 3]'),\n",
              " Text(0.13793103448275862, 0.1, 'entropy = 0.0\\nsamples = 17\\nvalue = [17, 0]'),\n",
              " Text(0.1724137931034483, 0.1, 'x[1] <= 0.69\\nentropy = 0.811\\nsamples = 4\\nvalue = [1, 3]'),\n",
              " Text(0.15517241379310345, 0.03333333333333333, 'entropy = 0.0\\nsamples = 3\\nvalue = [0, 3]'),\n",
              " Text(0.1896551724137931, 0.03333333333333333, 'entropy = 0.0\\nsamples = 1\\nvalue = [1, 0]'),\n",
              " Text(0.1896551724137931, 0.16666666666666666, 'entropy = 0.0\\nsamples = 2\\nvalue = [0, 2]'),\n",
              " Text(0.20689655172413793, 0.23333333333333334, 'entropy = 0.0\\nsamples = 38\\nvalue = [38, 0]'),\n",
              " Text(0.22413793103448276, 0.3, 'entropy = 0.0\\nsamples = 2\\nvalue = [0, 2]'),\n",
              " Text(0.27586206896551724, 0.36666666666666664, 'x[55] <= 15.5\\nentropy = 0.918\\nsamples = 6\\nvalue = [2, 4]'),\n",
              " Text(0.25862068965517243, 0.3, 'entropy = 0.0\\nsamples = 2\\nvalue = [2, 0]'),\n",
              " Text(0.29310344827586204, 0.3, 'entropy = 0.0\\nsamples = 4\\nvalue = [0, 4]'),\n",
              " Text(0.27586206896551724, 0.43333333333333335, 'entropy = 0.0\\nsamples = 3\\nvalue = [0, 3]'),\n",
              " Text(0.29310344827586204, 0.5, 'entropy = 0.0\\nsamples = 35\\nvalue = [35, 0]'),\n",
              " Text(0.41379310344827586, 0.5666666666666667, 'x[54] <= 3.065\\nentropy = 1.0\\nsamples = 46\\nvalue = [23, 23]'),\n",
              " Text(0.3793103448275862, 0.5, 'x[29] <= 0.055\\nentropy = 0.937\\nsamples = 34\\nvalue = [22, 12]'),\n",
              " Text(0.3620689655172414, 0.43333333333333335, 'x[49] <= 0.084\\nentropy = 0.837\\nsamples = 30\\nvalue = [22, 8]'),\n",
              " Text(0.3448275862068966, 0.36666666666666664, 'x[20] <= 1.875\\nentropy = 0.997\\nsamples = 15\\nvalue = [7, 8]'),\n",
              " Text(0.3275862068965517, 0.3, 'x[16] <= 0.075\\nentropy = 0.946\\nsamples = 11\\nvalue = [7, 4]'),\n",
              " Text(0.3103448275862069, 0.23333333333333334, 'x[2] <= 1.98\\nentropy = 0.544\\nsamples = 8\\nvalue = [7, 1]'),\n",
              " Text(0.29310344827586204, 0.16666666666666666, 'entropy = 0.0\\nsamples = 7\\nvalue = [7, 0]'),\n",
              " Text(0.3275862068965517, 0.16666666666666666, 'entropy = 0.0\\nsamples = 1\\nvalue = [0, 1]'),\n",
              " Text(0.3448275862068966, 0.23333333333333334, 'entropy = 0.0\\nsamples = 3\\nvalue = [0, 3]'),\n",
              " Text(0.3620689655172414, 0.3, 'entropy = 0.0\\nsamples = 4\\nvalue = [0, 4]'),\n",
              " Text(0.3793103448275862, 0.36666666666666664, 'entropy = 0.0\\nsamples = 15\\nvalue = [15, 0]'),\n",
              " Text(0.39655172413793105, 0.43333333333333335, 'entropy = 0.0\\nsamples = 4\\nvalue = [0, 4]'),\n",
              " Text(0.4482758620689655, 0.5, 'x[41] <= 0.355\\nentropy = 0.414\\nsamples = 12\\nvalue = [1, 11]'),\n",
              " Text(0.43103448275862066, 0.43333333333333335, 'entropy = 0.0\\nsamples = 11\\nvalue = [0, 11]'),\n",
              " Text(0.46551724137931033, 0.43333333333333335, 'entropy = 0.0\\nsamples = 1\\nvalue = [1, 0]'),\n",
              " Text(0.2629310344827586, 0.7, 'entropy = 0.0\\nsamples = 203\\nvalue = [203, 0]'),\n",
              " Text(0.5344827586206896, 0.7666666666666667, 'x[56] <= 27.0\\nentropy = 0.876\\nsamples = 71\\nvalue = [21, 50]'),\n",
              " Text(0.46551724137931033, 0.7, 'x[18] <= 4.08\\nentropy = 0.503\\nsamples = 18\\nvalue = [16, 2]'),\n",
              " Text(0.4482758620689655, 0.6333333333333333, 'entropy = 0.0\\nsamples = 13\\nvalue = [13, 0]'),\n",
              " Text(0.4827586206896552, 0.6333333333333333, 'x[55] <= 1.5\\nentropy = 0.971\\nsamples = 5\\nvalue = [3, 2]'),\n",
              " Text(0.46551724137931033, 0.5666666666666667, 'entropy = 0.0\\nsamples = 2\\nvalue = [2, 0]'),\n",
              " Text(0.5, 0.5666666666666667, 'x[55] <= 5.5\\nentropy = 0.918\\nsamples = 3\\nvalue = [1, 2]'),\n",
              " Text(0.4827586206896552, 0.5, 'entropy = 0.0\\nsamples = 2\\nvalue = [0, 2]'),\n",
              " Text(0.5172413793103449, 0.5, 'entropy = 0.0\\nsamples = 1\\nvalue = [1, 0]'),\n",
              " Text(0.603448275862069, 0.7, 'x[51] <= 4.415\\nentropy = 0.451\\nsamples = 53\\nvalue = [5, 48]'),\n",
              " Text(0.5862068965517241, 0.6333333333333333, 'x[0] <= 0.66\\nentropy = 0.323\\nsamples = 51\\nvalue = [3, 48]'),\n",
              " Text(0.5689655172413793, 0.5666666666666667, 'x[15] <= 0.575\\nentropy = 0.242\\nsamples = 50\\nvalue = [2, 48]'),\n",
              " Text(0.5517241379310345, 0.5, 'entropy = 0.0\\nsamples = 37\\nvalue = [0, 37]'),\n",
              " Text(0.5862068965517241, 0.5, 'x[15] <= 1.55\\nentropy = 0.619\\nsamples = 13\\nvalue = [2, 11]'),\n",
              " Text(0.5689655172413793, 0.43333333333333335, 'x[44] <= 0.08\\nentropy = 0.971\\nsamples = 5\\nvalue = [2, 3]'),\n",
              " Text(0.5517241379310345, 0.36666666666666664, 'x[18] <= 3.28\\nentropy = 0.918\\nsamples = 3\\nvalue = [2, 1]'),\n",
              " Text(0.5344827586206896, 0.3, 'entropy = 0.0\\nsamples = 2\\nvalue = [2, 0]'),\n",
              " Text(0.5689655172413793, 0.3, 'entropy = 0.0\\nsamples = 1\\nvalue = [0, 1]'),\n",
              " Text(0.5862068965517241, 0.36666666666666664, 'entropy = 0.0\\nsamples = 2\\nvalue = [0, 2]'),\n",
              " Text(0.603448275862069, 0.43333333333333335, 'entropy = 0.0\\nsamples = 8\\nvalue = [0, 8]'),\n",
              " Text(0.603448275862069, 0.5666666666666667, 'entropy = 0.0\\nsamples = 1\\nvalue = [1, 0]'),\n",
              " Text(0.6206896551724138, 0.6333333333333333, 'entropy = 0.0\\nsamples = 2\\nvalue = [2, 0]'),\n",
              " Text(0.6724137931034483, 0.8333333333333334, 'x[26] <= 0.14\\nentropy = 0.564\\nsamples = 68\\nvalue = [9, 59]'),\n",
              " Text(0.6551724137931034, 0.7666666666666667, 'x[52] <= 0.021\\nentropy = 0.28\\nsamples = 62\\nvalue = [3, 59]'),\n",
              " Text(0.6379310344827587, 0.7, 'entropy = 0.0\\nsamples = 52\\nvalue = [0, 52]'),\n",
              " Text(0.6724137931034483, 0.7, 'x[51] <= 0.05\\nentropy = 0.881\\nsamples = 10\\nvalue = [3, 7]'),\n",
              " Text(0.6551724137931034, 0.6333333333333333, 'entropy = 0.0\\nsamples = 2\\nvalue = [2, 0]'),\n",
              " Text(0.6896551724137931, 0.6333333333333333, 'x[19] <= 0.93\\nentropy = 0.544\\nsamples = 8\\nvalue = [1, 7]'),\n",
              " Text(0.6724137931034483, 0.5666666666666667, 'entropy = 0.0\\nsamples = 7\\nvalue = [0, 7]'),\n",
              " Text(0.7068965517241379, 0.5666666666666667, 'entropy = 0.0\\nsamples = 1\\nvalue = [1, 0]'),\n",
              " Text(0.6896551724137931, 0.7666666666666667, 'entropy = 0.0\\nsamples = 6\\nvalue = [6, 0]'),\n",
              " Text(0.8728448275862069, 0.9, 'x[24] <= 0.16\\nentropy = 0.613\\nsamples = 258\\nvalue = [39, 219]'),\n",
              " Text(0.7974137931034483, 0.8333333333333334, 'x[55] <= 7.5\\nentropy = 0.39\\nsamples = 235\\nvalue = [18, 217]'),\n",
              " Text(0.7413793103448276, 0.7666666666666667, 'x[6] <= 0.37\\nentropy = 0.684\\nsamples = 11\\nvalue = [9, 2]'),\n",
              " Text(0.7241379310344828, 0.7, 'entropy = 0.0\\nsamples = 9\\nvalue = [9, 0]'),\n",
              " Text(0.7586206896551724, 0.7, 'entropy = 0.0\\nsamples = 2\\nvalue = [0, 2]'),\n",
              " Text(0.853448275862069, 0.7666666666666667, 'x[20] <= 0.655\\nentropy = 0.243\\nsamples = 224\\nvalue = [9, 215]'),\n",
              " Text(0.7931034482758621, 0.7, 'x[51] <= 0.109\\nentropy = 0.659\\nsamples = 41\\nvalue = [7, 34]'),\n",
              " Text(0.7586206896551724, 0.6333333333333333, 'x[56] <= 259.0\\nentropy = 0.996\\nsamples = 13\\nvalue = [6, 7]'),\n",
              " Text(0.7413793103448276, 0.5666666666666667, 'x[48] <= 0.038\\nentropy = 0.592\\nsamples = 7\\nvalue = [6, 1]'),\n",
              " Text(0.7241379310344828, 0.5, 'entropy = 0.0\\nsamples = 6\\nvalue = [6, 0]'),\n",
              " Text(0.7586206896551724, 0.5, 'entropy = 0.0\\nsamples = 1\\nvalue = [0, 1]'),\n",
              " Text(0.7758620689655172, 0.5666666666666667, 'entropy = 0.0\\nsamples = 6\\nvalue = [0, 6]'),\n",
              " Text(0.8275862068965517, 0.6333333333333333, 'x[10] <= 0.345\\nentropy = 0.222\\nsamples = 28\\nvalue = [1, 27]'),\n",
              " Text(0.8103448275862069, 0.5666666666666667, 'entropy = 0.0\\nsamples = 27\\nvalue = [0, 27]'),\n",
              " Text(0.8448275862068966, 0.5666666666666667, 'entropy = 0.0\\nsamples = 1\\nvalue = [1, 0]'),\n",
              " Text(0.9137931034482759, 0.7, 'x[26] <= 0.21\\nentropy = 0.087\\nsamples = 183\\nvalue = [2, 181]'),\n",
              " Text(0.896551724137931, 0.6333333333333333, 'x[36] <= 0.57\\nentropy = 0.049\\nsamples = 182\\nvalue = [1, 181]'),\n",
              " Text(0.8793103448275862, 0.5666666666666667, 'entropy = 0.0\\nsamples = 177\\nvalue = [0, 177]'),\n",
              " Text(0.9137931034482759, 0.5666666666666667, 'x[36] <= 0.835\\nentropy = 0.722\\nsamples = 5\\nvalue = [1, 4]'),\n",
              " Text(0.896551724137931, 0.5, 'entropy = 0.0\\nsamples = 1\\nvalue = [1, 0]'),\n",
              " Text(0.9310344827586207, 0.5, 'entropy = 0.0\\nsamples = 4\\nvalue = [0, 4]'),\n",
              " Text(0.9310344827586207, 0.6333333333333333, 'entropy = 0.0\\nsamples = 1\\nvalue = [1, 0]'),\n",
              " Text(0.9482758620689655, 0.8333333333333334, 'x[9] <= 0.5\\nentropy = 0.426\\nsamples = 23\\nvalue = [21, 2]'),\n",
              " Text(0.9310344827586207, 0.7666666666666667, 'entropy = 0.0\\nsamples = 19\\nvalue = [19, 0]'),\n",
              " Text(0.9655172413793104, 0.7666666666666667, 'x[0] <= 0.125\\nentropy = 1.0\\nsamples = 4\\nvalue = [2, 2]'),\n",
              " Text(0.9482758620689655, 0.7, 'entropy = 0.0\\nsamples = 2\\nvalue = [2, 0]'),\n",
              " Text(0.9827586206896551, 0.7, 'entropy = 0.0\\nsamples = 2\\nvalue = [0, 2]')]"
            ]
          },
          "metadata": {},
          "execution_count": 104
        },
        {
          "output_type": "display_data",
          "data": {
            "text/plain": [
              "<Figure size 640x480 with 1 Axes>"
            ],
            "image/png": "[encoded data removed]"
          },
          "metadata": {}
        }
      ],
      "source": [
        "tree.plot_tree(clf)"
      ]
    },
    {
      "cell_type": "markdown",
      "id": "cae0fc91",
      "metadata": {
        "id": "cae0fc91"
      },
      "source": [
        "# Implementing Decision with custom parameters"
      ]
    },
    {
      "cell_type": "code",
      "execution_count": 107,
      "id": "e5fc031b",
      "metadata": {
        "id": "e5fc031b"
      },
      "outputs": [],
      "source": [
        "x_train,x_test,y_train,y_test = train_test_split(x,y,train_size=1000 , random_state= 44)"
      ]
    },
    {
      "cell_type": "code",
      "source": [
        "# Remove column names before fitting the classifier\n",
        "x_train.columns = range(x_train.shape[1])\n",
        "\n",
        "# Fit the classifier to the training data\n",
        "clf.fit(x_train, y_train)\n"
      ],
      "metadata": {
        "colab": {
          "base_uri": "https://localhost:8080/",
          "height": 91
        },
        "id": "hfwyWu9DcRme",
        "outputId": "713d8a1d-e8cc-4207-eae3-3fbffa6126db"
      },
      "id": "hfwyWu9DcRme",
      "execution_count": 112,
      "outputs": [
        {
          "output_type": "execute_result",
          "data": {
            "text/plain": [
              "DecisionTreeClassifier(criterion='entropy', max_depth=20, max_features='sqrt',\n",
              "                       min_samples_split=7, random_state=10)"
            ],
            "text/html": [
              "<style>#sk-container-id-3 {color: black;background-color: white;}#sk-container-id-3 pre{padding: 0;}#sk-container-id-3 div.sk-toggleable {background-color: white;}#sk-container-id-3 label.sk-toggleable__label {cursor: pointer;display: block;width: 100%;margin-bottom: 0;padding: 0.3em;box-sizing: border-box;text-align: center;}#sk-container-id-3 label.sk-toggleable__label-arrow:before {content: \"▸\";float: left;margin-right: 0.25em;color: #696969;}#sk-container-id-3 label.sk-toggleable__label-arrow:hover:before {color: black;}#sk-container-id-3 div.sk-estimator:hover label.sk-toggleable__label-arrow:before {color: black;}#sk-container-id-3 div.sk-toggleable__content {max-height: 0;max-width: 0;overflow: hidden;text-align: left;background-color: #f0f8ff;}#sk-container-id-3 div.sk-toggleable__content pre {margin: 0.2em;color: black;border-radius: 0.25em;background-color: #f0f8ff;}#sk-container-id-3 input.sk-toggleable__control:checked~div.sk-toggleable__content {max-height: 200px;max-width: 100%;overflow: auto;}#sk-container-id-3 input.sk-toggleable__control:checked~label.sk-toggleable__label-arrow:before {content: \"▾\";}#sk-container-id-3 div.sk-estimator input.sk-toggleable__control:checked~label.sk-toggleable__label {background-color: #d4ebff;}#sk-container-id-3 div.sk-label input.sk-toggleable__control:checked~label.sk-toggleable__label {background-color: #d4ebff;}#sk-container-id-3 input.sk-hidden--visually {border: 0;clip: rect(1px 1px 1px 1px);clip: rect(1px, 1px, 1px, 1px);height: 1px;margin: -1px;overflow: hidden;padding: 0;position: absolute;width: 1px;}#sk-container-id-3 div.sk-estimator {font-family: monospace;background-color: #f0f8ff;border: 1px dotted black;border-radius: 0.25em;box-sizing: border-box;margin-bottom: 0.5em;}#sk-container-id-3 div.sk-estimator:hover {background-color: #d4ebff;}#sk-container-id-3 div.sk-parallel-item::after {content: \"\";width: 100%;border-bottom: 1px solid gray;flex-grow: 1;}#sk-container-id-3 div.sk-label:hover label.sk-toggleable__label {background-color: #d4ebff;}#sk-container-id-3 div.sk-serial::before {content: \"\";position: absolute;border-left: 1px solid gray;box-sizing: border-box;top: 0;bottom: 0;left: 50%;z-index: 0;}#sk-container-id-3 div.sk-serial {display: flex;flex-direction: column;align-items: center;background-color: white;padding-right: 0.2em;padding-left: 0.2em;position: relative;}#sk-container-id-3 div.sk-item {position: relative;z-index: 1;}#sk-container-id-3 div.sk-parallel {display: flex;align-items: stretch;justify-content: center;background-color: white;position: relative;}#sk-container-id-3 div.sk-item::before, #sk-container-id-3 div.sk-parallel-item::before {content: \"\";position: absolute;border-left: 1px solid gray;box-sizing: border-box;top: 0;bottom: 0;left: 50%;z-index: -1;}#sk-container-id-3 div.sk-parallel-item {display: flex;flex-direction: column;z-index: 1;position: relative;background-color: white;}#sk-container-id-3 div.sk-parallel-item:first-child::after {align-self: flex-end;width: 50%;}#sk-container-id-3 div.sk-parallel-item:last-child::after {align-self: flex-start;width: 50%;}#sk-container-id-3 div.sk-parallel-item:only-child::after {width: 0;}#sk-container-id-3 div.sk-dashed-wrapped {border: 1px dashed gray;margin: 0 0.4em 0.5em 0.4em;box-sizing: border-box;padding-bottom: 0.4em;background-color: white;}#sk-container-id-3 div.sk-label label {font-family: monospace;font-weight: bold;display: inline-block;line-height: 1.2em;}#sk-container-id-3 div.sk-label-container {text-align: center;}#sk-container-id-3 div.sk-container {/* jupyter's `normalize.less` sets `[hidden] { display: none; }` but bootstrap.min.css set `[hidden] { display: none !important; }` so we also need the `!important` here to be able to override the default hidden behavior on the sphinx rendered scikit-learn.org. See: https://github.com/scikit-learn/scikit-learn/issues/21755 */display: inline-block !important;position: relative;}#sk-container-id-3 div.sk-text-repr-fallback {display: none;}</style><div id=\"sk-container-id-3\" class=\"sk-top-container\"><div class=\"sk-text-repr-fallback\"><pre>DecisionTreeClassifier(criterion=&#x27;entropy&#x27;, max_depth=20, max_features=&#x27;sqrt&#x27;,\n",
              "                       min_samples_split=7, random_state=10)</pre><b>In a Jupyter environment, please rerun this cell to show the HTML representation or trust the notebook. <br />On GitHub, the HTML representation is unable to render, please try loading this page with nbviewer.org.</b></div><div class=\"sk-container\" hidden><div class=\"sk-item\"><div class=\"sk-estimator sk-toggleable\"><input class=\"sk-toggleable__control sk-hidden--visually\" id=\"sk-estimator-id-3\" type=\"checkbox\" checked><label for=\"sk-estimator-id-3\" class=\"sk-toggleable__label sk-toggleable__label-arrow\">DecisionTreeClassifier</label><div class=\"sk-toggleable__content\"><pre>DecisionTreeClassifier(criterion=&#x27;entropy&#x27;, max_depth=20, max_features=&#x27;sqrt&#x27;,\n",
              "                       min_samples_split=7, random_state=10)</pre></div></div></div></div></div>"
            ]
          },
          "metadata": {},
          "execution_count": 112
        }
      ]
    },
    {
      "cell_type": "code",
      "execution_count": 113,
      "id": "da9beec4",
      "metadata": {
        "colab": {
          "base_uri": "https://localhost:8080/"
        },
        "id": "da9beec4",
        "outputId": "66a84baa-dd0b-4205-b28b-c2d7cc99c777"
      },
      "outputs": [
        {
          "output_type": "stream",
          "name": "stdout",
          "text": [
            "Accuracy Score is: 0.874479311302416\n",
            "              precision    recall  f1-score   support\n",
            "\n",
            "           0       0.87      0.93      0.90      2160\n",
            "           1       0.88      0.80      0.84      1441\n",
            "\n",
            "    accuracy                           0.87      3601\n",
            "   macro avg       0.88      0.86      0.87      3601\n",
            "weighted avg       0.87      0.87      0.87      3601\n",
            "\n",
            "Confusion Matrix:\n",
            "[[1999  161]\n",
            " [ 291 1150]]\n",
            "Accuracy is: 0.874479311302416\n",
            "Per_class_acc_true_pos is: 0.7980569049271339\n",
            "Per_class_acc_true_neg is: 0.9254629629629629\n"
          ]
        },
        {
          "output_type": "stream",
          "name": "stderr",
          "text": [
            "/usr/local/lib/python3.10/dist-packages/sklearn/base.py:432: UserWarning: X has feature names, but DecisionTreeClassifier was fitted without feature names\n",
            "  warnings.warn(\n"
          ]
        }
      ],
      "source": [
        "from sklearn.tree import DecisionTreeClassifier\n",
        "from sklearn.metrics import accuracy_score, classification_report, confusion_matrix\n",
        "\n",
        "# Define and initialize the classifier\n",
        "clf = DecisionTreeClassifier(criterion=\"entropy\", splitter=\"best\", max_depth=20, min_samples_split=7,\n",
        "                             max_features=\"sqrt\", random_state=10)\n",
        "\n",
        "# Convert column names to string if needed\n",
        "x_test.columns = x_test.columns.astype(str)\n",
        "\n",
        "# Fit the classifier to the training data\n",
        "clf.fit(x_train, y_train)\n",
        "\n",
        "# Make predictions on the test data\n",
        "y_hat = clf.predict(x_test)\n",
        "\n",
        "# Calculate and print accuracy score\n",
        "print(\"Accuracy Score is:\", accuracy_score(y_test, y_hat))\n",
        "\n",
        "# Print classification report\n",
        "print(classification_report(y_test, y_hat))\n",
        "\n",
        "# Calculate and print confusion matrix\n",
        "conf_mat = confusion_matrix(y_test, y_hat)\n",
        "print(\"Confusion Matrix:\")\n",
        "print(conf_mat)\n",
        "\n",
        "# Calculate other metrics\n",
        "true_positive = conf_mat[1][1]\n",
        "false_negative = conf_mat[1][0]\n",
        "false_positive = conf_mat[0][1]\n",
        "true_negative = conf_mat[0][0]\n",
        "\n",
        "# Classification Accuracy\n",
        "Accuracy = (true_positive + true_negative) / (true_positive + false_positive + false_negative + true_negative)\n",
        "print(\"Accuracy is:\", Accuracy)\n",
        "\n",
        "# Per class Accuracy\n",
        "Per_class_acc_true_pos = true_positive / (true_positive + false_negative)\n",
        "print(\"Per_class_acc_true_pos is:\", Per_class_acc_true_pos)\n",
        "\n",
        "Per_class_acc_true_neg = true_negative / (false_positive + true_negative)\n",
        "print(\"Per_class_acc_true_neg is:\", Per_class_acc_true_neg)\n"
      ]
    },
    {
      "cell_type": "code",
      "execution_count": 114,
      "id": "0fe3c27d",
      "metadata": {
        "colab": {
          "base_uri": "https://localhost:8080/",
          "height": 559
        },
        "id": "0fe3c27d",
        "outputId": "1a06cff8-7763-44e5-82b5-295bba54a8d2"
      },
      "outputs": [
        {
          "output_type": "stream",
          "name": "stdout",
          "text": [
            "Precision is: 0.8771929824561403\n",
            "Recall is: 0.7980569049271339\n",
            "F1_Score is: 0.8357558139534883\n",
            "[0.         0.07453704 1.        ]\n",
            "[0.        0.7980569 1.       ]\n"
          ]
        },
        {
          "output_type": "display_data",
          "data": {
            "text/plain": [
              "<Figure size 640x480 with 1 Axes>"
            ],
            "image/png": "[encoded data removed]"
          },
          "metadata": {}
        }
      ],
      "source": [
        "# Precison\n",
        "Precision = true_positive/(true_positive+false_positive)\n",
        "print(\"Precision is:\",Precision)\n",
        "# Recall\n",
        "Recall = true_positive/(true_positive+false_negative)\n",
        "print(\"Recall is:\",Recall)\n",
        "# F1 Score\n",
        "F1_Score = 2*(Recall * Precision) / (Recall + Precision)\n",
        "print(\"F1_Score is:\",F1_Score)\n",
        "# Area Under Curve\n",
        "auc = roc_auc_score(y_test, y_hat)\n",
        "auc\n",
        "fpr, tpr, thresholds = roc_curve(y_test, y_hat)\n",
        "print(fpr)\n",
        "print(tpr)\n",
        "thresholds\n",
        "plt.plot(fpr, tpr, color='orange', label='ROC')\n",
        "plt.plot([0, 1], [0, 1], color='darkblue', linestyle='--',label='ROC curve (area = %0.2f)' % auc)\n",
        "plt.xlabel('False Positive Rate')\n",
        "plt.ylabel('True Positive Rate')\n",
        "plt.title('Receiver Operating Characteristic (ROC) Curve')\n",
        "plt.legend()\n",
        "plt.show()\n"
      ]
    },
    {
      "cell_type": "markdown",
      "id": "913282d4",
      "metadata": {
        "id": "913282d4"
      },
      "source": [
        "# Random Forest Classifier Implementation."
      ]
    },
    {
      "cell_type": "code",
      "execution_count": 124,
      "id": "9c648417",
      "metadata": {
        "colab": {
          "base_uri": "https://localhost:8080/",
          "height": 856
        },
        "id": "9c648417",
        "outputId": "a8a0cb03-d2fc-44ac-ce86-03a5aab3f4d4"
      },
      "outputs": [
        {
          "output_type": "stream",
          "name": "stderr",
          "text": [
            "/usr/local/lib/python3.10/dist-packages/sklearn/base.py:432: UserWarning: X has feature names, but RandomForestClassifier was fitted without feature names\n",
            "  warnings.warn(\n"
          ]
        },
        {
          "output_type": "stream",
          "name": "stdout",
          "text": [
            "[[2102   58]\n",
            " [ 188 1253]]\n",
            "              precision    recall  f1-score   support\n",
            "\n",
            "           0       0.92      0.97      0.94      2160\n",
            "           1       0.96      0.87      0.91      1441\n",
            "\n",
            "    accuracy                           0.93      3601\n",
            "   macro avg       0.94      0.92      0.93      3601\n",
            "weighted avg       0.93      0.93      0.93      3601\n",
            "\n",
            "Accuracy Score is: 0.9316856428769786\n",
            "Per_Class_Accuracy_True_Positive: 0.8695350451075642\n",
            "Per_Class_Accuracy_True_Negative: 0.9731481481481481\n",
            "Precision is: 0.9557589626239512\n",
            "Recall is: 0.8695350451075642\n",
            "F1 Score is: 0.9106104651162792\n",
            "[0.         0.02685185 1.        ]\n",
            "[0.         0.86953505 1.        ]\n"
          ]
        },
        {
          "output_type": "display_data",
          "data": {
            "text/plain": [
              "<Figure size 640x480 with 1 Axes>"
            ],
            "image/png": "[encoded data removed]"
          },
          "metadata": {}
        }
      ],
      "source": [
        "# Implemeting the sklearn with default n_estimators and number of features to consider.while building a\n",
        "# RandomForestClassifier.\n",
        "from sklearn.ensemble import RandomForestClassifier\n",
        "random_forest_classifier = RandomForestClassifier(random_state=555,max_features=\"sqrt\")\n",
        "random_forest_classifier.fit(x_train, y_train)\n",
        "y_pred = random_forest_classifier.predict(x_test)\n",
        "from sklearn.metrics import classification_report, confusion_matrix, accuracy_score\n",
        "\n",
        "# Classification Accuracy and Accuration Report.\n",
        "print(confusion_matrix(y_test,y_pred))\n",
        "print(classification_report(y_test,y_pred))\n",
        "\n",
        "conf_mat=confusion_matrix(y_test,y_pred)\n",
        "true_positive = conf_mat[1][1]\n",
        "false_negative = conf_mat[1][0]\n",
        "false_positive= conf_mat[0][1]\n",
        "true_negative = conf_mat[0][0]\n",
        "\n",
        "print(\"Accuracy Score is:\",accuracy_score(y_test, y_pred))\n",
        "# Per class Accuracy for true positive.\n",
        "Per_class_acc_true_pos = true_positive/(true_positive+false_negative)\n",
        "print(\"Per_Class_Accuracy_True_Positive:\",Per_class_acc_true_pos)\n",
        "\n",
        "# Per class Accuracy for true negative.\n",
        "Per_class_acc_true_neg = true_negative/(false_positive+true_negative)\n",
        "print(\"Per_Class_Accuracy_True_Negative:\",Per_class_acc_true_neg)\n",
        "\n",
        "# Precison\n",
        "Precision = true_positive/(true_positive+false_positive)\n",
        "print(\"Precision is:\",Precision)\n",
        "\n",
        "# Recall\n",
        "Recall = true_positive/(true_positive+false_negative)\n",
        "print(\"Recall is:\",Recall)\n",
        "\n",
        "# F1 Score\n",
        "F1_Score = 2*(Recall * Precision) / (Recall + Precision)\n",
        "print(\"F1 Score is:\",F1_Score)\n",
        "\n",
        "# Area Under Curve\n",
        "auc = roc_auc_score(y_test, y_pred)\n",
        "auc\n",
        "\n",
        "fpr, tpr, thresholds = roc_curve(y_test, y_pred)\n",
        "print(fpr)\n",
        "print(tpr)\n",
        "thresholds\n",
        "\n",
        "plt.plot(fpr, tpr, color='orange', label='ROC')\n",
        "plt.plot([0, 1], [0, 1], color='darkblue', linestyle='--',label='ROC curve (area = %0.2f)' % auc)\n",
        "plt.xlabel('False Positive Rate')\n",
        "plt.ylabel('True Positive Rate')\n",
        "plt.title('Receiver Operating Characteristic (ROC) Curve')\n",
        "plt.legend()\n",
        "plt.show()\n",
        "\n"
      ]
    },
    {
      "cell_type": "code",
      "execution_count": 119,
      "id": "7d9d19b4",
      "metadata": {
        "colab": {
          "base_uri": "https://localhost:8080/",
          "height": 822
        },
        "id": "7d9d19b4",
        "outputId": "1aa68586-7524-4a2d-d07a-cb42c2f641f9"
      },
      "outputs": [
        {
          "output_type": "stream",
          "name": "stderr",
          "text": [
            "/usr/local/lib/python3.10/dist-packages/sklearn/base.py:432: UserWarning: X has feature names, but RandomForestClassifier was fitted without feature names\n",
            "  warnings.warn(\n"
          ]
        },
        {
          "output_type": "stream",
          "name": "stdout",
          "text": [
            "[[2102   58]\n",
            " [ 188 1253]]\n",
            "              precision    recall  f1-score   support\n",
            "\n",
            "           0       0.92      0.97      0.94      2160\n",
            "           1       0.96      0.87      0.91      1441\n",
            "\n",
            "    accuracy                           0.93      3601\n",
            "   macro avg       0.94      0.92      0.93      3601\n",
            "weighted avg       0.93      0.93      0.93      3601\n",
            "\n",
            "0.9316856428769786\n",
            "Accuracy Score is: 0.9316856428769786\n",
            "Per_Class_Accuracy_True_Positive: 0.8695350451075642\n",
            "Per_Class_Accuracy_True_Negative: 0.9731481481481481\n",
            "[0.         0.02685185 1.        ]\n",
            "[0.         0.86953505 1.        ]\n"
          ]
        },
        {
          "output_type": "display_data",
          "data": {
            "text/plain": [
              "<Figure size 640x480 with 1 Axes>"
            ],
            "image/png": "[encoded data removed]"
          },
          "metadata": {}
        }
      ],
      "source": [
        "# Buiding a Decision tree with n_estimators=100, max_features = \"sqrt\"\n",
        "from sklearn.ensemble import RandomForestClassifier\n",
        "classifier = RandomForestClassifier(n_estimators=100, random_state=555,max_features=\"sqrt\")\n",
        "classifier.fit(x_train, y_train)\n",
        "y_pred = classifier.predict(x_test)\n",
        "from sklearn.metrics import classification_report, confusion_matrix, accuracy_score\n",
        "conf_mat=confusion_matrix(y_test,y_pred)\n",
        "true_positive = conf_mat[1][1]\n",
        "false_negative = conf_mat[1][0]\n",
        "false_positive= conf_mat[0][1]\n",
        "true_negative = conf_mat[0][0]\n",
        "\n",
        "print(confusion_matrix(y_test,y_pred))\n",
        "print(classification_report(y_test,y_pred))\n",
        "print(accuracy_score(y_test, y_pred))\n",
        "\n",
        "print(\"Accuracy Score is:\",accuracy_score(y_test, y_pred))\n",
        "# Per class Accuracy for true positive.\n",
        "Per_class_acc_true_pos = true_positive/(true_positive+false_negative)\n",
        "print(\"Per_Class_Accuracy_True_Positive:\",Per_class_acc_true_pos)\n",
        "\n",
        "# Per class Accuracy for true negative.\n",
        "Per_class_acc_true_neg = true_negative/(false_positive+true_negative)\n",
        "print(\"Per_Class_Accuracy_True_Negative:\",Per_class_acc_true_neg)\n",
        "# Area Under Curve\n",
        "auc = roc_auc_score(y_test, y_pred)\n",
        "auc\n",
        "\n",
        "fpr, tpr, thresholds = roc_curve(y_test, y_pred)\n",
        "print(fpr)\n",
        "print(tpr)\n",
        "thresholds\n",
        "plt.plot(fpr, tpr, color='orange', label='ROC')\n",
        "plt.plot([0, 1], [0, 1], color='darkblue', linestyle='--',label='ROC curve (area = %0.2f)' % auc)\n",
        "plt.xlabel('False Positive Rate')\n",
        "plt.ylabel('True Positive Rate')\n",
        "plt.title('Receiver Operating Characteristic (ROC) Curve')\n",
        "plt.legend()\n",
        "plt.show()"
      ]
    },
    {
      "cell_type": "markdown",
      "id": "3ec0e1cc",
      "metadata": {
        "id": "3ec0e1cc"
      },
      "source": [
        "# Implement Grid Search CV to find out the best estimator for RandomForest Classifier."
      ]
    },
    {
      "cell_type": "code",
      "execution_count": 125,
      "id": "7c5ca479",
      "metadata": {
        "id": "7c5ca479"
      },
      "outputs": [],
      "source": [
        "param_grid = {\"n_estimators\": [10,50,100,500,1000,5000]}"
      ]
    },
    {
      "cell_type": "code",
      "execution_count": 126,
      "id": "a2723d37",
      "metadata": {
        "id": "a2723d37"
      },
      "outputs": [],
      "source": [
        "from sklearn.model_selection import train_test_split\n",
        "x_train,x_test,y_train,y_test=train_test_split(x,y, train_size=1000,random_state=44)"
      ]
    },
    {
      "cell_type": "code",
      "execution_count": 134,
      "id": "5d67c99f",
      "metadata": {
        "id": "5d67c99f"
      },
      "outputs": [],
      "source": [
        "from sklearn.ensemble import RandomForestClassifier\n",
        "classifier = RandomForestClassifier()\n",
        "from sklearn.model_selection import GridSearchCV\n",
        "grid_search = GridSearchCV(estimator = classifier, param_grid = param_grid, cv = 2, n_jobs = -1, verbose = 2)"
      ]
    },
    {
      "cell_type": "code",
      "execution_count": 154,
      "id": "670614a1",
      "metadata": {
        "colab": {
          "base_uri": "https://localhost:8080/"
        },
        "id": "670614a1",
        "outputId": "573a4515-5a81-4cc4-f0ff-257ca59942e3"
      },
      "outputs": [
        {
          "output_type": "stream",
          "name": "stdout",
          "text": [
            "[[2102   58]\n",
            " [ 188 1253]]\n",
            "Fitting 2 folds for each of 6 candidates, totalling 12 fits\n"
          ]
        },
        {
          "output_type": "execute_result",
          "data": {
            "text/plain": [
              "{'n_estimators': 500}"
            ]
          },
          "metadata": {},
          "execution_count": 154
        }
      ],
      "source": [
        "from sklearn.model_selection import train_test_split\n",
        "x_train,x_test,y_train,y_test=train_test_split(x,y, train_size=1000,random_state=44)\n",
        "x_train.columns = x_train.columns.astype(str)\n",
        "x_test.columns = x_test.columns.astype(str)\n",
        "\n",
        "classifier.fit(x_train, y_train)\n",
        "y_pred = classifier.predict(x_test)\n",
        "\n",
        "from sklearn.metrics import classification_report, confusion_matrix, accuracy_score\n",
        "\n",
        "print(confusion_matrix(y_test,y_pred))\n",
        "grid_search.fit(x_train, y_train)\n",
        "grid_search.best_params_"
      ]
    },
    {
      "cell_type": "code",
      "execution_count": null,
      "id": "af686ddb",
      "metadata": {
        "id": "af686ddb"
      },
      "outputs": [],
      "source": []
    },
    {
      "cell_type": "markdown",
      "id": "24fc46c2",
      "metadata": {
        "id": "24fc46c2"
      },
      "source": [
        "# I will use the estimator returned from a Gridsearch CV algorithm."
      ]
    },
    {
      "cell_type": "code",
      "execution_count": 156,
      "id": "c7822b8f",
      "metadata": {
        "colab": {
          "base_uri": "https://localhost:8080/",
          "height": 715
        },
        "id": "c7822b8f",
        "outputId": "4346da29-741c-4c5e-feb2-7797c12a634c"
      },
      "outputs": [
        {
          "output_type": "stream",
          "name": "stdout",
          "text": [
            "[[2102   58]\n",
            " [ 188 1253]]\n",
            "              precision    recall  f1-score   support\n",
            "\n",
            "           0       0.92      0.97      0.94      2160\n",
            "           1       0.96      0.87      0.91      1441\n",
            "\n",
            "    accuracy                           0.93      3601\n",
            "   macro avg       0.94      0.92      0.93      3601\n",
            "weighted avg       0.93      0.93      0.93      3601\n",
            "\n",
            "Accuracy Score is: 0.9316856428769786\n",
            "Per_Class_Accuracy_True_Positive: 0.8695350451075642\n",
            "Per_Class_Accuracy_True_Negative: 0.9731481481481481\n"
          ]
        },
        {
          "output_type": "display_data",
          "data": {
            "text/plain": [
              "<Figure size 640x480 with 1 Axes>"
            ],
            "image/png": "[encoded data removed]"
          },
          "metadata": {}
        }
      ],
      "source": [
        "from sklearn.model_selection import train_test_split\n",
        "x_train,x_test,y_train,y_test=train_test_split(x,y, train_size=1000,random_state=44)\n",
        "from sklearn.ensemble import RandomForestClassifier\n",
        "classifier = RandomForestClassifier(n_estimators=100,random_state=555,max_features=\"sqrt\")\n",
        "x_train.columns = x_train.columns.astype(str)\n",
        "x_test.columns = x_test.columns.astype(str)\n",
        "classifier.fit(x_train, y_train)\n",
        "y_pred=classifier.predict(x_test)\n",
        "# Confusion Matrix\n",
        "conf_mat = confusion_matrix(y_test,y_pred)\n",
        "true_positive = conf_mat[1][1]\n",
        "false_negative = conf_mat[1][0]\n",
        "false_positive= conf_mat[0][1]\n",
        "true_negative = conf_mat[0][0]\n",
        "from sklearn.metrics import classification_report\n",
        "from sklearn.metrics import confusion_matrix\n",
        "print(confusion_matrix(y_test,y_pred))\n",
        "print(classification_report(y_test,y_pred))\n",
        "print(\"Accuracy Score is:\",accuracy_score(y_test, y_pred))\n",
        "# Per class Accuracy for true positive.\n",
        "Per_class_acc_true_pos = true_positive/(true_positive+false_negative)\n",
        "print(\"Per_Class_Accuracy_True_Positive:\",Per_class_acc_true_pos)\n",
        "# Per class Accuracy for true negative.\n",
        "Per_class_acc_true_neg = true_negative/(false_positive+true_negative)\n",
        "print(\"Per_Class_Accuracy_True_Negative:\",Per_class_acc_true_neg)\n",
        "# Area Under Curve\n",
        "auc = roc_auc_score(y_test, y_hat)\n",
        "auc\n",
        "fpr, tpr, thresholds = roc_curve(y_test, y_pred)\n",
        "thresholds\n",
        "plt.plot(fpr, tpr, color='orange', label='ROC')\n",
        "plt.plot([0, 1], [0, 1], color='darkblue', linestyle='--',label='ROC curve (area = %0.2f)' % auc)\n",
        "plt.xlabel('False Positive Rate')\n",
        "plt.ylabel('True Positive Rate')\n",
        "plt.title('Receiver Operating Characteristic (ROC) Curve')\n",
        "plt.legend()\n",
        "plt.show()"
      ]
    }
  ],
  "metadata": {
    "kernelspec": {
      "display_name": "Python 3 (ipykernel)",
      "language": "python",
      "name": "python3"
    },
    "language_info": {
      "codemirror_mode": {
        "name": "ipython",
        "version": 3
      },
      "file_extension": ".py",
      "mimetype": "text/x-python",
      "name": "python",
      "nbconvert_exporter": "python",
      "pygments_lexer": "ipython3",
      "version": "3.9.12"
    },
    "colab": {
      "provenance": []
    }
  },
  "nbformat": 4,
  "nbformat_minor": 5
}